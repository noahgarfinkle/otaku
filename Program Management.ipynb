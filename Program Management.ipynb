{
 "cells": [
  {
   "cell_type": "markdown",
   "metadata": {},
   "source": [
    "# Program Management"
   ]
  },
  {
   "cell_type": "markdown",
   "metadata": {},
   "source": [
    "## Imports and Set Up"
   ]
  },
  {
   "cell_type": "code",
   "execution_count": 1,
   "metadata": {},
   "outputs": [],
   "source": [
    "import pandas as pd"
   ]
  },
  {
   "cell_type": "markdown",
   "metadata": {},
   "source": [
    "## Cell Styiling"
   ]
  },
  {
   "cell_type": "markdown",
   "metadata": {},
   "source": [
    "- https://stackoverflow.com/questions/28075699/coloring-cells-in-pandas\n",
    "- https://pandas.pydata.org/pandas-docs/stable/user_guide/style.html"
   ]
  },
  {
   "cell_type": "code",
   "execution_count": 40,
   "metadata": {},
   "outputs": [],
   "source": [
    "system_ids = [1,2,3,4,5]\n",
    "system_types = ['water','water','power','water','power']\n",
    "system_names = ['System 1','System 2','System 3','System 4','System 5']\n",
    "survey_statuses = ['complete','not started','submitted','complete','complete']\n",
    "system_progress = [0,0,50,100,20]"
   ]
  },
  {
   "cell_type": "code",
   "execution_count": 51,
   "metadata": {},
   "outputs": [],
   "source": [
    "df = pd.DataFrame({\"id\":system_ids,\"type\":system_types,\n",
    "                   \"name\":system_names,\"survey status\":survey_statuses,\n",
    "                  \"progress\":system_progress})"
   ]
  },
  {
   "cell_type": "code",
   "execution_count": 52,
   "metadata": {},
   "outputs": [],
   "source": [
    "def highlight_status(data):\n",
    "   # print(data)\n",
    "    color = \"white\"\n",
    "    if data == \"complete\":\n",
    "        color = 'green'\n",
    "    elif data == \"not started\":\n",
    "        color = 'red'\n",
    "    elif data == \"submitted\":\n",
    "        color = 'orange'\n",
    "    attr = 'background-color: {}'.format(color)\n",
    "    return attr"
   ]
  },
  {
   "cell_type": "code",
   "execution_count": 56,
   "metadata": {},
   "outputs": [
    {
     "data": {
      "text/html": [
       "<style  type=\"text/css\" >\n",
       "    #T_853d6d50_7c52_11ea_8e1d_bc5ff4bc2029row0_col3 {\n",
       "            background-color:  green;\n",
       "        }    #T_853d6d50_7c52_11ea_8e1d_bc5ff4bc2029row1_col3 {\n",
       "            background-color:  red;\n",
       "        }    #T_853d6d50_7c52_11ea_8e1d_bc5ff4bc2029row2_col3 {\n",
       "            background-color:  orange;\n",
       "        }    #T_853d6d50_7c52_11ea_8e1d_bc5ff4bc2029row3_col3 {\n",
       "            background-color:  green;\n",
       "        }    #T_853d6d50_7c52_11ea_8e1d_bc5ff4bc2029row4_col3 {\n",
       "            background-color:  green;\n",
       "        }</style><table id=\"T_853d6d50_7c52_11ea_8e1d_bc5ff4bc2029\" ><thead>    <tr>        <th class=\"blank level0\" ></th>        <th class=\"col_heading level0 col0\" >id</th>        <th class=\"col_heading level0 col1\" >type</th>        <th class=\"col_heading level0 col2\" >name</th>        <th class=\"col_heading level0 col3\" >survey status</th>        <th class=\"col_heading level0 col4\" >progress</th>    </tr></thead><tbody>\n",
       "                <tr>\n",
       "                        <th id=\"T_853d6d50_7c52_11ea_8e1d_bc5ff4bc2029level0_row0\" class=\"row_heading level0 row0\" >0</th>\n",
       "                        <td id=\"T_853d6d50_7c52_11ea_8e1d_bc5ff4bc2029row0_col0\" class=\"data row0 col0\" >1</td>\n",
       "                        <td id=\"T_853d6d50_7c52_11ea_8e1d_bc5ff4bc2029row0_col1\" class=\"data row0 col1\" >water</td>\n",
       "                        <td id=\"T_853d6d50_7c52_11ea_8e1d_bc5ff4bc2029row0_col2\" class=\"data row0 col2\" >System 1</td>\n",
       "                        <td id=\"T_853d6d50_7c52_11ea_8e1d_bc5ff4bc2029row0_col3\" class=\"data row0 col3\" >complete</td>\n",
       "                        <td id=\"T_853d6d50_7c52_11ea_8e1d_bc5ff4bc2029row0_col4\" class=\"data row0 col4\" >0</td>\n",
       "            </tr>\n",
       "            <tr>\n",
       "                        <th id=\"T_853d6d50_7c52_11ea_8e1d_bc5ff4bc2029level0_row1\" class=\"row_heading level0 row1\" >1</th>\n",
       "                        <td id=\"T_853d6d50_7c52_11ea_8e1d_bc5ff4bc2029row1_col0\" class=\"data row1 col0\" >2</td>\n",
       "                        <td id=\"T_853d6d50_7c52_11ea_8e1d_bc5ff4bc2029row1_col1\" class=\"data row1 col1\" >water</td>\n",
       "                        <td id=\"T_853d6d50_7c52_11ea_8e1d_bc5ff4bc2029row1_col2\" class=\"data row1 col2\" >System 2</td>\n",
       "                        <td id=\"T_853d6d50_7c52_11ea_8e1d_bc5ff4bc2029row1_col3\" class=\"data row1 col3\" >not started</td>\n",
       "                        <td id=\"T_853d6d50_7c52_11ea_8e1d_bc5ff4bc2029row1_col4\" class=\"data row1 col4\" >0</td>\n",
       "            </tr>\n",
       "            <tr>\n",
       "                        <th id=\"T_853d6d50_7c52_11ea_8e1d_bc5ff4bc2029level0_row2\" class=\"row_heading level0 row2\" >2</th>\n",
       "                        <td id=\"T_853d6d50_7c52_11ea_8e1d_bc5ff4bc2029row2_col0\" class=\"data row2 col0\" >3</td>\n",
       "                        <td id=\"T_853d6d50_7c52_11ea_8e1d_bc5ff4bc2029row2_col1\" class=\"data row2 col1\" >power</td>\n",
       "                        <td id=\"T_853d6d50_7c52_11ea_8e1d_bc5ff4bc2029row2_col2\" class=\"data row2 col2\" >System 3</td>\n",
       "                        <td id=\"T_853d6d50_7c52_11ea_8e1d_bc5ff4bc2029row2_col3\" class=\"data row2 col3\" >submitted</td>\n",
       "                        <td id=\"T_853d6d50_7c52_11ea_8e1d_bc5ff4bc2029row2_col4\" class=\"data row2 col4\" >50</td>\n",
       "            </tr>\n",
       "            <tr>\n",
       "                        <th id=\"T_853d6d50_7c52_11ea_8e1d_bc5ff4bc2029level0_row3\" class=\"row_heading level0 row3\" >3</th>\n",
       "                        <td id=\"T_853d6d50_7c52_11ea_8e1d_bc5ff4bc2029row3_col0\" class=\"data row3 col0\" >4</td>\n",
       "                        <td id=\"T_853d6d50_7c52_11ea_8e1d_bc5ff4bc2029row3_col1\" class=\"data row3 col1\" >water</td>\n",
       "                        <td id=\"T_853d6d50_7c52_11ea_8e1d_bc5ff4bc2029row3_col2\" class=\"data row3 col2\" >System 4</td>\n",
       "                        <td id=\"T_853d6d50_7c52_11ea_8e1d_bc5ff4bc2029row3_col3\" class=\"data row3 col3\" >complete</td>\n",
       "                        <td id=\"T_853d6d50_7c52_11ea_8e1d_bc5ff4bc2029row3_col4\" class=\"data row3 col4\" >100</td>\n",
       "            </tr>\n",
       "            <tr>\n",
       "                        <th id=\"T_853d6d50_7c52_11ea_8e1d_bc5ff4bc2029level0_row4\" class=\"row_heading level0 row4\" >4</th>\n",
       "                        <td id=\"T_853d6d50_7c52_11ea_8e1d_bc5ff4bc2029row4_col0\" class=\"data row4 col0\" >5</td>\n",
       "                        <td id=\"T_853d6d50_7c52_11ea_8e1d_bc5ff4bc2029row4_col1\" class=\"data row4 col1\" >power</td>\n",
       "                        <td id=\"T_853d6d50_7c52_11ea_8e1d_bc5ff4bc2029row4_col2\" class=\"data row4 col2\" >System 5</td>\n",
       "                        <td id=\"T_853d6d50_7c52_11ea_8e1d_bc5ff4bc2029row4_col3\" class=\"data row4 col3\" >complete</td>\n",
       "                        <td id=\"T_853d6d50_7c52_11ea_8e1d_bc5ff4bc2029row4_col4\" class=\"data row4 col4\" >20</td>\n",
       "            </tr>\n",
       "    </tbody></table>"
      ],
      "text/plain": [
       "<pandas.io.formats.style.Styler at 0x1ee489b2e08>"
      ]
     },
     "execution_count": 56,
     "metadata": {},
     "output_type": "execute_result"
    }
   ],
   "source": [
    "df.style.applymap(highlight_status,subset=[\"survey status\"])"
   ]
  },
  {
   "cell_type": "code",
   "execution_count": 57,
   "metadata": {},
   "outputs": [
    {
     "data": {
      "text/html": [
       "<style  type=\"text/css\" >\n",
       "    #T_85863b86_7c52_11ea_a4dc_bc5ff4bc2029row0_col4 {\n",
       "            width:  10em;\n",
       "             height:  80%;\n",
       "        }    #T_85863b86_7c52_11ea_a4dc_bc5ff4bc2029row1_col4 {\n",
       "            width:  10em;\n",
       "             height:  80%;\n",
       "        }    #T_85863b86_7c52_11ea_a4dc_bc5ff4bc2029row2_col4 {\n",
       "            width:  10em;\n",
       "             height:  80%;\n",
       "            background:  linear-gradient(90deg,#d65f5f 50.0%, transparent 50.0%);\n",
       "        }    #T_85863b86_7c52_11ea_a4dc_bc5ff4bc2029row3_col4 {\n",
       "            width:  10em;\n",
       "             height:  80%;\n",
       "            background:  linear-gradient(90deg,#d65f5f 100.0%, transparent 100.0%);\n",
       "        }    #T_85863b86_7c52_11ea_a4dc_bc5ff4bc2029row4_col4 {\n",
       "            width:  10em;\n",
       "             height:  80%;\n",
       "            background:  linear-gradient(90deg,#d65f5f 20.0%, transparent 20.0%);\n",
       "        }</style><table id=\"T_85863b86_7c52_11ea_a4dc_bc5ff4bc2029\" ><thead>    <tr>        <th class=\"blank level0\" ></th>        <th class=\"col_heading level0 col0\" >id</th>        <th class=\"col_heading level0 col1\" >type</th>        <th class=\"col_heading level0 col2\" >name</th>        <th class=\"col_heading level0 col3\" >survey status</th>        <th class=\"col_heading level0 col4\" >progress</th>    </tr></thead><tbody>\n",
       "                <tr>\n",
       "                        <th id=\"T_85863b86_7c52_11ea_a4dc_bc5ff4bc2029level0_row0\" class=\"row_heading level0 row0\" >0</th>\n",
       "                        <td id=\"T_85863b86_7c52_11ea_a4dc_bc5ff4bc2029row0_col0\" class=\"data row0 col0\" >1</td>\n",
       "                        <td id=\"T_85863b86_7c52_11ea_a4dc_bc5ff4bc2029row0_col1\" class=\"data row0 col1\" >water</td>\n",
       "                        <td id=\"T_85863b86_7c52_11ea_a4dc_bc5ff4bc2029row0_col2\" class=\"data row0 col2\" >System 1</td>\n",
       "                        <td id=\"T_85863b86_7c52_11ea_a4dc_bc5ff4bc2029row0_col3\" class=\"data row0 col3\" >complete</td>\n",
       "                        <td id=\"T_85863b86_7c52_11ea_a4dc_bc5ff4bc2029row0_col4\" class=\"data row0 col4\" >0</td>\n",
       "            </tr>\n",
       "            <tr>\n",
       "                        <th id=\"T_85863b86_7c52_11ea_a4dc_bc5ff4bc2029level0_row1\" class=\"row_heading level0 row1\" >1</th>\n",
       "                        <td id=\"T_85863b86_7c52_11ea_a4dc_bc5ff4bc2029row1_col0\" class=\"data row1 col0\" >2</td>\n",
       "                        <td id=\"T_85863b86_7c52_11ea_a4dc_bc5ff4bc2029row1_col1\" class=\"data row1 col1\" >water</td>\n",
       "                        <td id=\"T_85863b86_7c52_11ea_a4dc_bc5ff4bc2029row1_col2\" class=\"data row1 col2\" >System 2</td>\n",
       "                        <td id=\"T_85863b86_7c52_11ea_a4dc_bc5ff4bc2029row1_col3\" class=\"data row1 col3\" >not started</td>\n",
       "                        <td id=\"T_85863b86_7c52_11ea_a4dc_bc5ff4bc2029row1_col4\" class=\"data row1 col4\" >0</td>\n",
       "            </tr>\n",
       "            <tr>\n",
       "                        <th id=\"T_85863b86_7c52_11ea_a4dc_bc5ff4bc2029level0_row2\" class=\"row_heading level0 row2\" >2</th>\n",
       "                        <td id=\"T_85863b86_7c52_11ea_a4dc_bc5ff4bc2029row2_col0\" class=\"data row2 col0\" >3</td>\n",
       "                        <td id=\"T_85863b86_7c52_11ea_a4dc_bc5ff4bc2029row2_col1\" class=\"data row2 col1\" >power</td>\n",
       "                        <td id=\"T_85863b86_7c52_11ea_a4dc_bc5ff4bc2029row2_col2\" class=\"data row2 col2\" >System 3</td>\n",
       "                        <td id=\"T_85863b86_7c52_11ea_a4dc_bc5ff4bc2029row2_col3\" class=\"data row2 col3\" >submitted</td>\n",
       "                        <td id=\"T_85863b86_7c52_11ea_a4dc_bc5ff4bc2029row2_col4\" class=\"data row2 col4\" >50</td>\n",
       "            </tr>\n",
       "            <tr>\n",
       "                        <th id=\"T_85863b86_7c52_11ea_a4dc_bc5ff4bc2029level0_row3\" class=\"row_heading level0 row3\" >3</th>\n",
       "                        <td id=\"T_85863b86_7c52_11ea_a4dc_bc5ff4bc2029row3_col0\" class=\"data row3 col0\" >4</td>\n",
       "                        <td id=\"T_85863b86_7c52_11ea_a4dc_bc5ff4bc2029row3_col1\" class=\"data row3 col1\" >water</td>\n",
       "                        <td id=\"T_85863b86_7c52_11ea_a4dc_bc5ff4bc2029row3_col2\" class=\"data row3 col2\" >System 4</td>\n",
       "                        <td id=\"T_85863b86_7c52_11ea_a4dc_bc5ff4bc2029row3_col3\" class=\"data row3 col3\" >complete</td>\n",
       "                        <td id=\"T_85863b86_7c52_11ea_a4dc_bc5ff4bc2029row3_col4\" class=\"data row3 col4\" >100</td>\n",
       "            </tr>\n",
       "            <tr>\n",
       "                        <th id=\"T_85863b86_7c52_11ea_a4dc_bc5ff4bc2029level0_row4\" class=\"row_heading level0 row4\" >4</th>\n",
       "                        <td id=\"T_85863b86_7c52_11ea_a4dc_bc5ff4bc2029row4_col0\" class=\"data row4 col0\" >5</td>\n",
       "                        <td id=\"T_85863b86_7c52_11ea_a4dc_bc5ff4bc2029row4_col1\" class=\"data row4 col1\" >power</td>\n",
       "                        <td id=\"T_85863b86_7c52_11ea_a4dc_bc5ff4bc2029row4_col2\" class=\"data row4 col2\" >System 5</td>\n",
       "                        <td id=\"T_85863b86_7c52_11ea_a4dc_bc5ff4bc2029row4_col3\" class=\"data row4 col3\" >complete</td>\n",
       "                        <td id=\"T_85863b86_7c52_11ea_a4dc_bc5ff4bc2029row4_col4\" class=\"data row4 col4\" >20</td>\n",
       "            </tr>\n",
       "    </tbody></table>"
      ],
      "text/plain": [
       "<pandas.io.formats.style.Styler at 0x1ee4819a1c8>"
      ]
     },
     "execution_count": 57,
     "metadata": {},
     "output_type": "execute_result"
    }
   ],
   "source": [
    "df.style.bar(subset=['progress'])"
   ]
  },
  {
   "cell_type": "code",
   "execution_count": null,
   "metadata": {},
   "outputs": [],
   "source": []
  }
 ],
 "metadata": {
  "kernelspec": {
   "display_name": "Python 3.7.6 64-bit ('phd': conda)",
   "language": "python",
   "name": "python37664bitphdcondab24623704836426aa66db115e96068bb"
  },
  "language_info": {
   "codemirror_mode": {
    "name": "ipython",
    "version": 3
   },
   "file_extension": ".py",
   "mimetype": "text/x-python",
   "name": "python",
   "nbconvert_exporter": "python",
   "pygments_lexer": "ipython3",
   "version": "3.7.6"
  }
 },
 "nbformat": 4,
 "nbformat_minor": 4
}
