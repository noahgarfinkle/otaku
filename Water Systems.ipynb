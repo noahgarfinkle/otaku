{
 "cells": [
  {
   "cell_type": "markdown",
   "metadata": {},
   "source": [
    "# USA Water Systems and Operators"
   ]
  },
  {
   "cell_type": "markdown",
   "metadata": {},
   "source": [
    "## References"
   ]
  },
  {
   "cell_type": "markdown",
   "metadata": {},
   "source": []
  },
  {
   "cell_type": "markdown",
   "metadata": {},
   "source": [
    "## Imports and Setup"
   ]
  },
  {
   "cell_type": "code",
   "execution_count": 3,
   "metadata": {},
   "outputs": [],
   "source": [
    "import numpy as np\n",
    "import pandas as pd\n",
    "import geopandas as gpd\n",
    "import matplotlib.pyplot as plt\n",
    "import seaborn as sns\n",
    "import os"
   ]
  },
  {
   "cell_type": "markdown",
   "metadata": {},
   "source": [
    "## Data"
   ]
  },
  {
   "cell_type": "code",
   "execution_count": 4,
   "metadata": {},
   "outputs": [],
   "source": [
    "folder_WaterSystems = \"C:\\\\Users\\\\garfink2\\\\Documents\\\\data\\\\drinkingwater\\\\watersystems\""
   ]
  },
  {
   "cell_type": "markdown",
   "metadata": {},
   "source": [
    "## Analyses"
   ]
  },
  {
   "cell_type": "code",
   "execution_count": 6,
   "metadata": {},
   "outputs": [],
   "source": [
    "list_StateFiles = os.listdir(folder_WaterSystems)"
   ]
  },
  {
   "cell_type": "code",
   "execution_count": 12,
   "metadata": {},
   "outputs": [],
   "source": [
    "dict_StateFiles = {}\n",
    "for stateFile in list_StateFiles:\n",
    "    df = pd.read_csv(f\"{folder_WaterSystems}/{stateFile}\",encoding='cp1252')\n",
    "    df[\"State\"] = stateFile.split('.')[0].upper()\n",
    "    dict_StateFiles[stateFile.split('.')[0].upper()] = df"
   ]
  },
  {
   "cell_type": "code",
   "execution_count": 18,
   "metadata": {},
   "outputs": [
    {
     "data": {
      "text/plain": [
       "0      Fremont\n",
       "1      Lincoln\n",
       "2      Natrona\n",
       "3      Laramie\n",
       "4      Natrona\n",
       "        ...   \n",
       "773       Park\n",
       "774       Park\n",
       "775       Park\n",
       "776       Park\n",
       "777    Johnson\n",
       "Name: Counties Served, Length: 778, dtype: object"
      ]
     },
     "execution_count": 18,
     "metadata": {},
     "output_type": "execute_result"
    }
   ],
   "source": [
    "df[\"Counties Served\"]"
   ]
  },
  {
   "cell_type": "code",
   "execution_count": 20,
   "metadata": {},
   "outputs": [
    {
     "name": "stdout",
     "output_type": "stream",
     "text": [
      "PWS ID                                          WY5601140\n",
      "PWS Name                  BLM FONTENELLE CREEK CAMPGROUND\n",
      "PWS Type                   Transient non-community system\n",
      "Primary Source                               Ground water\n",
      "Counties Served                       Lincoln, Sweetwater\n",
      "Cities Served                                ROCK SPRINGS\n",
      "PopulationServed Count                                 25\n",
      "Number of Facilities                                    7\n",
      "Number of Violations                                    6\n",
      "Number of Site Visits                                   7\n",
      "State                                                  WY\n",
      "Name: 453, dtype: object\n",
      "PWS ID                                         WY5600688\n",
      "PWS Name                           MEADOWLARK LAKE LODGE\n",
      "PWS Type                  Transient non-community system\n",
      "Primary Source                              Ground water\n",
      "Counties Served                       Big Horn, Washakie\n",
      "Cities Served                                    WORLAND\n",
      "PopulationServed Count                               154\n",
      "Number of Facilities                                   4\n",
      "Number of Violations                                  15\n",
      "Number of Site Visits                                  6\n",
      "State                                                 WY\n",
      "Name: 612, dtype: object\n",
      "PWS ID                                         WY5600952\n",
      "PWS Name                    WY DOT-STAR VALLEY REST AREA\n",
      "PWS Type                  Transient non-community system\n",
      "Primary Source                              Ground water\n",
      "Counties Served                      Lincoln, Sweetwater\n",
      "Cities Served                                      AFTON\n",
      "PopulationServed Count                               100\n",
      "Number of Facilities                                   7\n",
      "Number of Violations                                   2\n",
      "Number of Site Visits                                  8\n",
      "State                                                 WY\n",
      "Name: 753, dtype: object\n",
      "PWS ID                                         WY5680084\n",
      "PWS Name                           YELLOWSTONE NP NORRIS\n",
      "PWS Type                  Transient non-community system\n",
      "Primary Source                             Surface water\n",
      "Counties Served                              Park, Teton\n",
      "Cities Served                             YELLOWSTONE NP\n",
      "PopulationServed Count                             1,515\n",
      "Number of Facilities                                  10\n",
      "Number of Violations                                   4\n",
      "Number of Site Visits                                  8\n",
      "State                                                 WY\n",
      "Name: 770, dtype: object\n"
     ]
    }
   ],
   "source": [
    "for i,row in df.iterrows():\n",
    "    if \",\" in row[\"Counties Served\"]:\n",
    "        print(row)"
   ]
  },
  {
   "cell_type": "code",
   "execution_count": null,
   "metadata": {},
   "outputs": [],
   "source": []
  }
 ],
 "metadata": {
  "kernelspec": {
   "display_name": "Python 3.7.6 64-bit ('phd': conda)",
   "language": "python",
   "name": "python37664bitphdcondab24623704836426aa66db115e96068bb"
  },
  "language_info": {
   "codemirror_mode": {
    "name": "ipython",
    "version": 3
   },
   "file_extension": ".py",
   "mimetype": "text/x-python",
   "name": "python",
   "nbconvert_exporter": "python",
   "pygments_lexer": "ipython3",
   "version": "3.7.6"
  }
 },
 "nbformat": 4,
 "nbformat_minor": 4
}
