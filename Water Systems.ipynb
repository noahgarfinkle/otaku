{
 "cells": [
  {
   "cell_type": "markdown",
   "metadata": {},
   "source": [
    "# USA Water Systems and Operators"
   ]
  },
  {
   "cell_type": "markdown",
   "metadata": {},
   "source": [
    "## References"
   ]
  },
  {
   "cell_type": "markdown",
   "metadata": {},
   "source": []
  },
  {
   "cell_type": "markdown",
   "metadata": {},
   "source": [
    "## Imports and Setup"
   ]
  },
  {
   "cell_type": "code",
   "execution_count": 3,
   "metadata": {},
   "outputs": [],
   "source": [
    "import numpy as np\n",
    "import pandas as pd\n",
    "import geopandas as gpd\n",
    "import matplotlib.pyplot as plt\n",
    "import seaborn as sns\n",
    "import os"
   ]
  },
  {
   "cell_type": "markdown",
   "metadata": {},
   "source": [
    "## Data"
   ]
  },
  {
   "cell_type": "code",
   "execution_count": 27,
   "metadata": {},
   "outputs": [],
   "source": [
    "folder_WaterSystems = \"C:\\\\Users\\\\garfink2\\\\Documents\\\\data\\\\drinkingwater\\\\watersystems\"\n",
    "csv_FacilityFiles = \"C:\\\\Users\\\\garfink2\\\\Documents\\\\data\\\\drinkingwater\\\\national_combined\\\\NATIONAL_FACILITY_FILE.CSV\"\n",
    "shp_USCounties = \"C:\\\\Users\\\\garfink2\\\\Documents\\\\data\\\\basemap\\\\tl_2017_us_county\\\\tl_2017_us_county.shp\""
   ]
  },
  {
   "cell_type": "markdown",
   "metadata": {},
   "source": [
    "## Analyses"
   ]
  },
  {
   "cell_type": "markdown",
   "metadata": {},
   "source": [
    "### Water Treatment Systems"
   ]
  },
  {
   "cell_type": "code",
   "execution_count": 6,
   "metadata": {},
   "outputs": [],
   "source": [
    "list_StateFiles = os.listdir(folder_WaterSystems)"
   ]
  },
  {
   "cell_type": "code",
   "execution_count": 12,
   "metadata": {},
   "outputs": [],
   "source": [
    "dict_StateFiles = {}\n",
    "for stateFile in list_StateFiles:\n",
    "    df = pd.read_csv(f\"{folder_WaterSystems}/{stateFile}\",encoding='cp1252')\n",
    "    df[\"State\"] = stateFile.split('.')[0].upper()\n",
    "    dict_StateFiles[stateFile.split('.')[0].upper()] = df"
   ]
  },
  {
   "cell_type": "code",
   "execution_count": 18,
   "metadata": {},
   "outputs": [
    {
     "data": {
      "text/plain": [
       "0      Fremont\n",
       "1      Lincoln\n",
       "2      Natrona\n",
       "3      Laramie\n",
       "4      Natrona\n",
       "        ...   \n",
       "773       Park\n",
       "774       Park\n",
       "775       Park\n",
       "776       Park\n",
       "777    Johnson\n",
       "Name: Counties Served, Length: 778, dtype: object"
      ]
     },
     "execution_count": 18,
     "metadata": {},
     "output_type": "execute_result"
    }
   ],
   "source": [
    "df[\"Counties Served\"]"
   ]
  },
  {
   "cell_type": "code",
   "execution_count": 20,
   "metadata": {},
   "outputs": [
    {
     "name": "stdout",
     "output_type": "stream",
     "text": [
      "PWS ID                                          WY5601140\n",
      "PWS Name                  BLM FONTENELLE CREEK CAMPGROUND\n",
      "PWS Type                   Transient non-community system\n",
      "Primary Source                               Ground water\n",
      "Counties Served                       Lincoln, Sweetwater\n",
      "Cities Served                                ROCK SPRINGS\n",
      "PopulationServed Count                                 25\n",
      "Number of Facilities                                    7\n",
      "Number of Violations                                    6\n",
      "Number of Site Visits                                   7\n",
      "State                                                  WY\n",
      "Name: 453, dtype: object\n",
      "PWS ID                                         WY5600688\n",
      "PWS Name                           MEADOWLARK LAKE LODGE\n",
      "PWS Type                  Transient non-community system\n",
      "Primary Source                              Ground water\n",
      "Counties Served                       Big Horn, Washakie\n",
      "Cities Served                                    WORLAND\n",
      "PopulationServed Count                               154\n",
      "Number of Facilities                                   4\n",
      "Number of Violations                                  15\n",
      "Number of Site Visits                                  6\n",
      "State                                                 WY\n",
      "Name: 612, dtype: object\n",
      "PWS ID                                         WY5600952\n",
      "PWS Name                    WY DOT-STAR VALLEY REST AREA\n",
      "PWS Type                  Transient non-community system\n",
      "Primary Source                              Ground water\n",
      "Counties Served                      Lincoln, Sweetwater\n",
      "Cities Served                                      AFTON\n",
      "PopulationServed Count                               100\n",
      "Number of Facilities                                   7\n",
      "Number of Violations                                   2\n",
      "Number of Site Visits                                  8\n",
      "State                                                 WY\n",
      "Name: 753, dtype: object\n",
      "PWS ID                                         WY5680084\n",
      "PWS Name                           YELLOWSTONE NP NORRIS\n",
      "PWS Type                  Transient non-community system\n",
      "Primary Source                             Surface water\n",
      "Counties Served                              Park, Teton\n",
      "Cities Served                             YELLOWSTONE NP\n",
      "PopulationServed Count                             1,515\n",
      "Number of Facilities                                  10\n",
      "Number of Violations                                   4\n",
      "Number of Site Visits                                  8\n",
      "State                                                 WY\n",
      "Name: 770, dtype: object\n"
     ]
    }
   ],
   "source": [
    "for i,row in df.iterrows():\n",
    "    if \",\" in row[\"Counties Served\"]:\n",
    "        print(row)"
   ]
  },
  {
   "cell_type": "code",
   "execution_count": 31,
   "metadata": {},
   "outputs": [],
   "source": [
    "df_AllStateWaterSupplies = pd.concat(list(dict_StateFiles.values()))"
   ]
  },
  {
   "cell_type": "markdown",
   "metadata": {},
   "source": [
    "### National Facilities"
   ]
  },
  {
   "cell_type": "code",
   "execution_count": 22,
   "metadata": {},
   "outputs": [
    {
     "name": "stderr",
     "output_type": "stream",
     "text": [
      "C:\\Users\\garfink2\\AppData\\Local\\Continuum\\anaconda3\\envs\\phd\\lib\\site-packages\\IPython\\core\\interactiveshell.py:3051: DtypeWarning: Columns (4,7,11,12,13,14,15,16,21,23,24,31) have mixed types.Specify dtype option on import or set low_memory=False.\n",
      "  interactivity=interactivity, compiler=compiler, result=result)\n"
     ]
    }
   ],
   "source": [
    "nationalFacilities = pd.read_csv(csv_FacilityFiles)"
   ]
  },
  {
   "cell_type": "code",
   "execution_count": 23,
   "metadata": {},
   "outputs": [
    {
     "data": {
      "text/html": [
       "<div>\n",
       "<style scoped>\n",
       "    .dataframe tbody tr th:only-of-type {\n",
       "        vertical-align: middle;\n",
       "    }\n",
       "\n",
       "    .dataframe tbody tr th {\n",
       "        vertical-align: top;\n",
       "    }\n",
       "\n",
       "    .dataframe thead th {\n",
       "        text-align: right;\n",
       "    }\n",
       "</style>\n",
       "<table border=\"1\" class=\"dataframe\">\n",
       "  <thead>\n",
       "    <tr style=\"text-align: right;\">\n",
       "      <th></th>\n",
       "      <th>FRS_FACILITY_DETAIL_REPORT_URL</th>\n",
       "      <th>REGISTRY_ID</th>\n",
       "      <th>PRIMARY_NAME</th>\n",
       "      <th>LOCATION_ADDRESS</th>\n",
       "      <th>SUPPLEMENTAL_LOCATION</th>\n",
       "      <th>CITY_NAME</th>\n",
       "      <th>COUNTY_NAME</th>\n",
       "      <th>FIPS_CODE</th>\n",
       "      <th>STATE_CODE</th>\n",
       "      <th>STATE_NAME</th>\n",
       "      <th>...</th>\n",
       "      <th>US_MEXICO_BORDER_IND</th>\n",
       "      <th>PGM_SYS_ACRNMS</th>\n",
       "      <th>LATITUDE83</th>\n",
       "      <th>LONGITUDE83</th>\n",
       "      <th>CONVEYOR</th>\n",
       "      <th>COLLECT_DESC</th>\n",
       "      <th>ACCURACY_VALUE</th>\n",
       "      <th>REF_POINT_DESC</th>\n",
       "      <th>HDATUM_DESC</th>\n",
       "      <th>SOURCE_DESC</th>\n",
       "    </tr>\n",
       "  </thead>\n",
       "  <tbody>\n",
       "    <tr>\n",
       "      <th>0</th>\n",
       "      <td>http://ofmpub.epa.gov/enviro/fii_query_detail....</td>\n",
       "      <td>110000491735</td>\n",
       "      <td>OCEAN DOCK TERMINAL AND ANCHORAGE TERMINAL II</td>\n",
       "      <td>1076 OCEAN DOCK RD</td>\n",
       "      <td>NaN</td>\n",
       "      <td>ANCHORAGE</td>\n",
       "      <td>ANCHORAGE</td>\n",
       "      <td>02020</td>\n",
       "      <td>AK</td>\n",
       "      <td>ALASKA</td>\n",
       "      <td>...</td>\n",
       "      <td>NaN</td>\n",
       "      <td>AIR:AK0000000202000032, AIRS/AFS:0202000032, B...</td>\n",
       "      <td>61.229579</td>\n",
       "      <td>-149.893094</td>\n",
       "      <td>EPA_SLT</td>\n",
       "      <td>INTERPOLATION-PHOTO</td>\n",
       "      <td>125.0</td>\n",
       "      <td>FACILITY CENTROID</td>\n",
       "      <td>NAD83</td>\n",
       "      <td>NaN</td>\n",
       "    </tr>\n",
       "    <tr>\n",
       "      <th>1</th>\n",
       "      <td>http://ofmpub.epa.gov/enviro/fii_query_detail....</td>\n",
       "      <td>110000491744</td>\n",
       "      <td>INLET PERTROLEUM ANCHORAGE</td>\n",
       "      <td>459 W BLUFF DR</td>\n",
       "      <td>NaN</td>\n",
       "      <td>ANCHORAGE</td>\n",
       "      <td>ANCHORAGE</td>\n",
       "      <td>02020</td>\n",
       "      <td>AK</td>\n",
       "      <td>ALASKA</td>\n",
       "      <td>...</td>\n",
       "      <td>NaN</td>\n",
       "      <td>EIS:677611, ICIS:2600029860, ICIS:5870869, NPD...</td>\n",
       "      <td>61.231236</td>\n",
       "      <td>-149.888143</td>\n",
       "      <td>EPA_SLT</td>\n",
       "      <td>INTERPOLATION-PHOTO</td>\n",
       "      <td>3.0</td>\n",
       "      <td>FACILITY CENTROID</td>\n",
       "      <td>NAD83</td>\n",
       "      <td>NaN</td>\n",
       "    </tr>\n",
       "    <tr>\n",
       "      <th>2</th>\n",
       "      <td>http://ofmpub.epa.gov/enviro/fii_query_detail....</td>\n",
       "      <td>110000491762</td>\n",
       "      <td>UNIVAR USA</td>\n",
       "      <td>590 E 100TH AVE</td>\n",
       "      <td>NaN</td>\n",
       "      <td>ANCHORAGE</td>\n",
       "      <td>ANCHORAGE</td>\n",
       "      <td>02020</td>\n",
       "      <td>AK</td>\n",
       "      <td>ALASKA</td>\n",
       "      <td>...</td>\n",
       "      <td>NaN</td>\n",
       "      <td>AIR:AK0000000202000105, BR:AKD981765902, EIS:6...</td>\n",
       "      <td>61.129407</td>\n",
       "      <td>-149.871824</td>\n",
       "      <td>EPA_SLT</td>\n",
       "      <td>INTERPOLATION-PHOTO</td>\n",
       "      <td>3.0</td>\n",
       "      <td>FACILITY CENTROID</td>\n",
       "      <td>NAD83</td>\n",
       "      <td>NaN</td>\n",
       "    </tr>\n",
       "    <tr>\n",
       "      <th>3</th>\n",
       "      <td>http://ofmpub.epa.gov/enviro/fii_query_detail....</td>\n",
       "      <td>110000491780</td>\n",
       "      <td>FAIRBANKS PETROLEUM TERMINAL</td>\n",
       "      <td>5500 AIRPORT INDUSTRIAL RD</td>\n",
       "      <td>NaN</td>\n",
       "      <td>FAIRBANKS</td>\n",
       "      <td>FAIRBANKS NORTH STAR</td>\n",
       "      <td>02090</td>\n",
       "      <td>AK</td>\n",
       "      <td>ALASKA</td>\n",
       "      <td>...</td>\n",
       "      <td>NaN</td>\n",
       "      <td>EIS:680011, ICIS:600007563, NPDES:AKR06AB58, N...</td>\n",
       "      <td>64.811292</td>\n",
       "      <td>-147.884914</td>\n",
       "      <td>EPA_SLT</td>\n",
       "      <td>INTERPOLATION-PHOTO</td>\n",
       "      <td>3.0</td>\n",
       "      <td>FACILITY CENTROID</td>\n",
       "      <td>NAD83</td>\n",
       "      <td>NaN</td>\n",
       "    </tr>\n",
       "    <tr>\n",
       "      <th>4</th>\n",
       "      <td>http://ofmpub.epa.gov/enviro/fii_query_detail....</td>\n",
       "      <td>110000491824</td>\n",
       "      <td>TESORO ALASKA KETCHIKAN TERMINAL</td>\n",
       "      <td>1010 STEDMAN ST</td>\n",
       "      <td>NaN</td>\n",
       "      <td>KETCHIKAN</td>\n",
       "      <td>KETCHIKAN GATEWAY</td>\n",
       "      <td>02130</td>\n",
       "      <td>AK</td>\n",
       "      <td>ALASKA</td>\n",
       "      <td>...</td>\n",
       "      <td>NaN</td>\n",
       "      <td>EIS:540611, NPDES:AK0000523, RCRAINFO:AKD09983...</td>\n",
       "      <td>55.335010</td>\n",
       "      <td>-131.627950</td>\n",
       "      <td>FRS-TRIS</td>\n",
       "      <td>ADDRESS MATCHING-HOUSE NUMBER</td>\n",
       "      <td>30.0</td>\n",
       "      <td>CENTER OF A FACILITY OR STATION</td>\n",
       "      <td>NAD83</td>\n",
       "      <td>NaN</td>\n",
       "    </tr>\n",
       "  </tbody>\n",
       "</table>\n",
       "<p>5 rows × 34 columns</p>\n",
       "</div>"
      ],
      "text/plain": [
       "                      FRS_FACILITY_DETAIL_REPORT_URL   REGISTRY_ID  \\\n",
       "0  http://ofmpub.epa.gov/enviro/fii_query_detail....  110000491735   \n",
       "1  http://ofmpub.epa.gov/enviro/fii_query_detail....  110000491744   \n",
       "2  http://ofmpub.epa.gov/enviro/fii_query_detail....  110000491762   \n",
       "3  http://ofmpub.epa.gov/enviro/fii_query_detail....  110000491780   \n",
       "4  http://ofmpub.epa.gov/enviro/fii_query_detail....  110000491824   \n",
       "\n",
       "                                    PRIMARY_NAME            LOCATION_ADDRESS  \\\n",
       "0  OCEAN DOCK TERMINAL AND ANCHORAGE TERMINAL II          1076 OCEAN DOCK RD   \n",
       "1                     INLET PERTROLEUM ANCHORAGE              459 W BLUFF DR   \n",
       "2                                     UNIVAR USA             590 E 100TH AVE   \n",
       "3                   FAIRBANKS PETROLEUM TERMINAL  5500 AIRPORT INDUSTRIAL RD   \n",
       "4               TESORO ALASKA KETCHIKAN TERMINAL             1010 STEDMAN ST   \n",
       "\n",
       "  SUPPLEMENTAL_LOCATION  CITY_NAME           COUNTY_NAME FIPS_CODE STATE_CODE  \\\n",
       "0                   NaN  ANCHORAGE             ANCHORAGE     02020         AK   \n",
       "1                   NaN  ANCHORAGE             ANCHORAGE     02020         AK   \n",
       "2                   NaN  ANCHORAGE             ANCHORAGE     02020         AK   \n",
       "3                   NaN  FAIRBANKS  FAIRBANKS NORTH STAR     02090         AK   \n",
       "4                   NaN  KETCHIKAN     KETCHIKAN GATEWAY     02130         AK   \n",
       "\n",
       "  STATE_NAME  ... US_MEXICO_BORDER_IND  \\\n",
       "0     ALASKA  ...                  NaN   \n",
       "1     ALASKA  ...                  NaN   \n",
       "2     ALASKA  ...                  NaN   \n",
       "3     ALASKA  ...                  NaN   \n",
       "4     ALASKA  ...                  NaN   \n",
       "\n",
       "                                      PGM_SYS_ACRNMS LATITUDE83 LONGITUDE83  \\\n",
       "0  AIR:AK0000000202000032, AIRS/AFS:0202000032, B...  61.229579 -149.893094   \n",
       "1  EIS:677611, ICIS:2600029860, ICIS:5870869, NPD...  61.231236 -149.888143   \n",
       "2  AIR:AK0000000202000105, BR:AKD981765902, EIS:6...  61.129407 -149.871824   \n",
       "3  EIS:680011, ICIS:600007563, NPDES:AKR06AB58, N...  64.811292 -147.884914   \n",
       "4  EIS:540611, NPDES:AK0000523, RCRAINFO:AKD09983...  55.335010 -131.627950   \n",
       "\n",
       "   CONVEYOR                   COLLECT_DESC ACCURACY_VALUE  \\\n",
       "0   EPA_SLT            INTERPOLATION-PHOTO          125.0   \n",
       "1   EPA_SLT            INTERPOLATION-PHOTO            3.0   \n",
       "2   EPA_SLT            INTERPOLATION-PHOTO            3.0   \n",
       "3   EPA_SLT            INTERPOLATION-PHOTO            3.0   \n",
       "4  FRS-TRIS  ADDRESS MATCHING-HOUSE NUMBER           30.0   \n",
       "\n",
       "                    REF_POINT_DESC  HDATUM_DESC  SOURCE_DESC  \n",
       "0                FACILITY CENTROID        NAD83          NaN  \n",
       "1                FACILITY CENTROID        NAD83          NaN  \n",
       "2                FACILITY CENTROID        NAD83          NaN  \n",
       "3                FACILITY CENTROID        NAD83          NaN  \n",
       "4  CENTER OF A FACILITY OR STATION        NAD83          NaN  \n",
       "\n",
       "[5 rows x 34 columns]"
      ]
     },
     "execution_count": 23,
     "metadata": {},
     "output_type": "execute_result"
    }
   ],
   "source": [
    "nationalFacilities.head()"
   ]
  },
  {
   "cell_type": "code",
   "execution_count": 24,
   "metadata": {},
   "outputs": [
    {
     "data": {
      "text/plain": [
       "Index(['FRS_FACILITY_DETAIL_REPORT_URL', 'REGISTRY_ID', 'PRIMARY_NAME',\n",
       "       'LOCATION_ADDRESS', 'SUPPLEMENTAL_LOCATION', 'CITY_NAME', 'COUNTY_NAME',\n",
       "       'FIPS_CODE', 'STATE_CODE', 'STATE_NAME', 'COUNTRY_NAME', 'POSTAL_CODE',\n",
       "       'FEDERAL_FACILITY_CODE', 'FEDERAL_AGENCY_NAME', 'TRIBAL_LAND_CODE',\n",
       "       'TRIBAL_LAND_NAME', 'CONGRESSIONAL_DIST_NUM', 'CENSUS_BLOCK_CODE',\n",
       "       'HUC_CODE', 'EPA_REGION_CODE', 'SITE_TYPE_NAME', 'LOCATION_DESCRIPTION',\n",
       "       'CREATE_DATE', 'UPDATE_DATE', 'US_MEXICO_BORDER_IND', 'PGM_SYS_ACRNMS',\n",
       "       'LATITUDE83', 'LONGITUDE83', 'CONVEYOR', 'COLLECT_DESC',\n",
       "       'ACCURACY_VALUE', 'REF_POINT_DESC', 'HDATUM_DESC', 'SOURCE_DESC'],\n",
       "      dtype='object')"
      ]
     },
     "execution_count": 24,
     "metadata": {},
     "output_type": "execute_result"
    }
   ],
   "source": [
    "nationalFacilities.columns"
   ]
  },
  {
   "cell_type": "code",
   "execution_count": 25,
   "metadata": {},
   "outputs": [
    {
     "data": {
      "text/plain": [
       "'http://ofmpub.epa.gov/enviro/fii_query_detail.disp_program_facility?p_registry_id=110000491744'"
      ]
     },
     "execution_count": 25,
     "metadata": {},
     "output_type": "execute_result"
    }
   ],
   "source": [
    "nationalFacilities[\"FRS_FACILITY_DETAIL_REPORT_URL\"][1]"
   ]
  },
  {
   "cell_type": "code",
   "execution_count": 26,
   "metadata": {},
   "outputs": [
    {
     "data": {
      "text/plain": [
       "0          19020401.0\n",
       "1          19020401.0\n",
       "2          19020401.0\n",
       "3          19040506.0\n",
       "4          19010102.0\n",
       "              ...    \n",
       "4224068           NaN\n",
       "4224069           NaN\n",
       "4224070           NaN\n",
       "4224071           NaN\n",
       "4224072           NaN\n",
       "Name: HUC_CODE, Length: 4224073, dtype: float64"
      ]
     },
     "execution_count": 26,
     "metadata": {},
     "output_type": "execute_result"
    }
   ],
   "source": [
    "nationalFacilities[\"HUC_CODE\"]"
   ]
  },
  {
   "cell_type": "markdown",
   "metadata": {},
   "source": [
    "### Basemap Data"
   ]
  },
  {
   "cell_type": "code",
   "execution_count": 28,
   "metadata": {},
   "outputs": [],
   "source": [
    "gdf_USCounties = gpd.read_file(shp_USCounties)"
   ]
  },
  {
   "cell_type": "code",
   "execution_count": 29,
   "metadata": {},
   "outputs": [
    {
     "data": {
      "text/plain": [
       "<matplotlib.axes._subplots.AxesSubplot at 0x24ca3d197c8>"
      ]
     },
     "execution_count": 29,
     "metadata": {},
     "output_type": "execute_result"
    },
    {
     "data": {
      "image/png": "[encoded data removed]",
      "text/plain": [
       "<Figure size 432x288 with 1 Axes>"
      ]
     },
     "metadata": {
      "needs_background": "light"
     },
     "output_type": "display_data"
    }
   ],
   "source": [
    "gdf_USCounties.plot()"
   ]
  },
  {
   "cell_type": "code",
   "execution_count": 30,
   "metadata": {},
   "outputs": [
    {
     "data": {
      "text/html": [
       "<div>\n",
       "<style scoped>\n",
       "    .dataframe tbody tr th:only-of-type {\n",
       "        vertical-align: middle;\n",
       "    }\n",
       "\n",
       "    .dataframe tbody tr th {\n",
       "        vertical-align: top;\n",
       "    }\n",
       "\n",
       "    .dataframe thead th {\n",
       "        text-align: right;\n",
       "    }\n",
       "</style>\n",
       "<table border=\"1\" class=\"dataframe\">\n",
       "  <thead>\n",
       "    <tr style=\"text-align: right;\">\n",
       "      <th></th>\n",
       "      <th>STATEFP</th>\n",
       "      <th>COUNTYFP</th>\n",
       "      <th>COUNTYNS</th>\n",
       "      <th>GEOID</th>\n",
       "      <th>NAME</th>\n",
       "      <th>NAMELSAD</th>\n",
       "      <th>LSAD</th>\n",
       "      <th>CLASSFP</th>\n",
       "      <th>MTFCC</th>\n",
       "      <th>CSAFP</th>\n",
       "      <th>CBSAFP</th>\n",
       "      <th>METDIVFP</th>\n",
       "      <th>FUNCSTAT</th>\n",
       "      <th>ALAND</th>\n",
       "      <th>AWATER</th>\n",
       "      <th>INTPTLAT</th>\n",
       "      <th>INTPTLON</th>\n",
       "      <th>geometry</th>\n",
       "    </tr>\n",
       "  </thead>\n",
       "  <tbody>\n",
       "    <tr>\n",
       "      <th>0</th>\n",
       "      <td>31</td>\n",
       "      <td>039</td>\n",
       "      <td>00835841</td>\n",
       "      <td>31039</td>\n",
       "      <td>Cuming</td>\n",
       "      <td>Cuming County</td>\n",
       "      <td>06</td>\n",
       "      <td>H1</td>\n",
       "      <td>G4020</td>\n",
       "      <td>None</td>\n",
       "      <td>None</td>\n",
       "      <td>None</td>\n",
       "      <td>A</td>\n",
       "      <td>1477641638</td>\n",
       "      <td>10701538</td>\n",
       "      <td>+41.9158651</td>\n",
       "      <td>-096.7885168</td>\n",
       "      <td>POLYGON ((-97.01952 42.00410, -97.01952 42.004...</td>\n",
       "    </tr>\n",
       "    <tr>\n",
       "      <th>1</th>\n",
       "      <td>53</td>\n",
       "      <td>069</td>\n",
       "      <td>01513275</td>\n",
       "      <td>53069</td>\n",
       "      <td>Wahkiakum</td>\n",
       "      <td>Wahkiakum County</td>\n",
       "      <td>06</td>\n",
       "      <td>H1</td>\n",
       "      <td>G4020</td>\n",
       "      <td>None</td>\n",
       "      <td>None</td>\n",
       "      <td>None</td>\n",
       "      <td>A</td>\n",
       "      <td>680956787</td>\n",
       "      <td>61588406</td>\n",
       "      <td>+46.2946377</td>\n",
       "      <td>-123.4244583</td>\n",
       "      <td>POLYGON ((-123.43639 46.23820, -123.44759 46.2...</td>\n",
       "    </tr>\n",
       "    <tr>\n",
       "      <th>2</th>\n",
       "      <td>35</td>\n",
       "      <td>011</td>\n",
       "      <td>00933054</td>\n",
       "      <td>35011</td>\n",
       "      <td>De Baca</td>\n",
       "      <td>De Baca County</td>\n",
       "      <td>06</td>\n",
       "      <td>H1</td>\n",
       "      <td>G4020</td>\n",
       "      <td>None</td>\n",
       "      <td>None</td>\n",
       "      <td>None</td>\n",
       "      <td>A</td>\n",
       "      <td>6016761648</td>\n",
       "      <td>29147345</td>\n",
       "      <td>+34.3592729</td>\n",
       "      <td>-104.3686961</td>\n",
       "      <td>POLYGON ((-104.56739 33.99757, -104.56772 33.9...</td>\n",
       "    </tr>\n",
       "    <tr>\n",
       "      <th>3</th>\n",
       "      <td>31</td>\n",
       "      <td>109</td>\n",
       "      <td>00835876</td>\n",
       "      <td>31109</td>\n",
       "      <td>Lancaster</td>\n",
       "      <td>Lancaster County</td>\n",
       "      <td>06</td>\n",
       "      <td>H1</td>\n",
       "      <td>G4020</td>\n",
       "      <td>339</td>\n",
       "      <td>30700</td>\n",
       "      <td>None</td>\n",
       "      <td>A</td>\n",
       "      <td>2169252486</td>\n",
       "      <td>22867561</td>\n",
       "      <td>+40.7835474</td>\n",
       "      <td>-096.6886584</td>\n",
       "      <td>POLYGON ((-96.91060 40.95841, -96.91060 40.958...</td>\n",
       "    </tr>\n",
       "    <tr>\n",
       "      <th>4</th>\n",
       "      <td>31</td>\n",
       "      <td>129</td>\n",
       "      <td>00835886</td>\n",
       "      <td>31129</td>\n",
       "      <td>Nuckolls</td>\n",
       "      <td>Nuckolls County</td>\n",
       "      <td>06</td>\n",
       "      <td>H1</td>\n",
       "      <td>G4020</td>\n",
       "      <td>None</td>\n",
       "      <td>None</td>\n",
       "      <td>None</td>\n",
       "      <td>A</td>\n",
       "      <td>1489645186</td>\n",
       "      <td>1718484</td>\n",
       "      <td>+40.1764918</td>\n",
       "      <td>-098.0468422</td>\n",
       "      <td>POLYGON ((-98.27367 40.08940, -98.27367 40.089...</td>\n",
       "    </tr>\n",
       "  </tbody>\n",
       "</table>\n",
       "</div>"
      ],
      "text/plain": [
       "  STATEFP COUNTYFP  COUNTYNS  GEOID       NAME          NAMELSAD LSAD CLASSFP  \\\n",
       "0      31      039  00835841  31039     Cuming     Cuming County   06      H1   \n",
       "1      53      069  01513275  53069  Wahkiakum  Wahkiakum County   06      H1   \n",
       "2      35      011  00933054  35011    De Baca    De Baca County   06      H1   \n",
       "3      31      109  00835876  31109  Lancaster  Lancaster County   06      H1   \n",
       "4      31      129  00835886  31129   Nuckolls   Nuckolls County   06      H1   \n",
       "\n",
       "   MTFCC CSAFP CBSAFP METDIVFP FUNCSTAT       ALAND    AWATER     INTPTLAT  \\\n",
       "0  G4020  None   None     None        A  1477641638  10701538  +41.9158651   \n",
       "1  G4020  None   None     None        A   680956787  61588406  +46.2946377   \n",
       "2  G4020  None   None     None        A  6016761648  29147345  +34.3592729   \n",
       "3  G4020   339  30700     None        A  2169252486  22867561  +40.7835474   \n",
       "4  G4020  None   None     None        A  1489645186   1718484  +40.1764918   \n",
       "\n",
       "       INTPTLON                                           geometry  \n",
       "0  -096.7885168  POLYGON ((-97.01952 42.00410, -97.01952 42.004...  \n",
       "1  -123.4244583  POLYGON ((-123.43639 46.23820, -123.44759 46.2...  \n",
       "2  -104.3686961  POLYGON ((-104.56739 33.99757, -104.56772 33.9...  \n",
       "3  -096.6886584  POLYGON ((-96.91060 40.95841, -96.91060 40.958...  \n",
       "4  -098.0468422  POLYGON ((-98.27367 40.08940, -98.27367 40.089...  "
      ]
     },
     "execution_count": 30,
     "metadata": {},
     "output_type": "execute_result"
    }
   ],
   "source": [
    "gdf_USCounties.head()"
   ]
  },
  {
   "cell_type": "markdown",
   "metadata": {},
   "source": [
    "### Map water systems to US counties"
   ]
  },
  {
   "cell_type": "code",
   "execution_count": null,
   "metadata": {},
   "outputs": [],
   "source": [
    "for k,v in "
   ]
  }
 ],
 "metadata": {
  "kernelspec": {
   "display_name": "Python 3.7.6 64-bit ('phd': conda)",
   "language": "python",
   "name": "python37664bitphdcondab24623704836426aa66db115e96068bb"
  },
  "language_info": {
   "codemirror_mode": {
    "name": "ipython",
    "version": 3
   },
   "file_extension": ".py",
   "mimetype": "text/x-python",
   "name": "python",
   "nbconvert_exporter": "python",
   "pygments_lexer": "ipython3",
   "version": "3.7.6"
  }
 },
 "nbformat": 4,
 "nbformat_minor": 4
}
