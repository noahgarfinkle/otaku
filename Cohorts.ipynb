{
 "cells": [
  {
   "cell_type": "markdown",
   "metadata": {},
   "source": [
    "# Cohort Analyses"
   ]
  },
  {
   "cell_type": "markdown",
   "metadata": {},
   "source": [
    "## References"
   ]
  },
  {
   "cell_type": "markdown",
   "metadata": {},
   "source": [
    "|Link|Notes|\n",
    "|---|---|\n",
    "|https://finance.yahoo.com/news/hell-coming-mathematical-proof-185019616.html|Basic spread models|\n",
    "|https://www.insidermonkey.com/blog/donald-trump-has-3-3-percent-chance-of-dying-from-coronavirus-817781/|Basic risk mdoel|"
   ]
  },
  {
   "cell_type": "markdown",
   "metadata": {},
   "source": [
    "## Imports and Setup"
   ]
  },
  {
   "cell_type": "code",
   "execution_count": null,
   "metadata": {},
   "outputs": [],
   "source": [
    "import numpy as np\n",
    "import matplotlib.pyplot as plt\n",
    "import seaborn as sns\n",
    "import pandas as pd\n",
    "import geopandas as gpd\n",
    "from ipypb import track\n",
    "import datetime as dt\n",
    "from mpl_toolkits.axes_grid1 import make_axes_locatable\n",
    "import ipywidgets as widgets\n",
    "from ipywidgets import interact, interact_manual\n",
    "from celluloid import Camera\n",
    "import os\n",
    "import scipy.stats as stats\n",
    "import time\n",
    "from ipypb import track"
   ]
  },
  {
   "cell_type": "code",
   "execution_count": 2,
   "metadata": {},
   "outputs": [],
   "source": [
    "pd.options.display.max_columns = 999"
   ]
  },
  {
   "cell_type": "markdown",
   "metadata": {},
   "source": [
    "## Data"
   ]
  },
  {
   "cell_type": "markdown",
   "metadata": {},
   "source": [
    "Data Sources (keep it simple and focus on building the models)\n",
    "- https://covidtracking.com/api/\n",
    "- New York Times"
   ]
  },
  {
   "cell_type": "code",
   "execution_count": 3,
   "metadata": {},
   "outputs": [],
   "source": [
    "nytCountyData = \"C:\\\\Users\\\\garfink2\\\\Documents\\\\data\\\\covid\\\\covid-19-data\\\\us-counties.csv\"\n",
    "folderOfJHUData = \"C:\\\\Users\\\\garfink2\\\\Documents\\\\data\\\\covid\\\\COVID-19\\\\csse_covid_19_data\\\\csse_covid_19_daily_reports\\\\\"\n",
    "shp_USCounties = \"C:\\\\Users\\\\garfink2\\\\Documents\\\\data\\\\basemap\\\\tl_2017_us_county\\\\tl_2017_us_county.shp\"\n",
    "shp_USStates = \"C:\\\\Users\\\\garfink2\\\\Documents\\\\data\\\\basemap\\\\tl_2017_us_state\\\\tl_2017_us_state.shp\"\n",
    "excel_CountyPopulations = \"C:\\\\Users\\\\garfink2\\\\Documents\\\\data\\\\basemap\\\\co-est2019-alldata.xlsx\""
   ]
  },
  {
   "cell_type": "code",
   "execution_count": 4,
   "metadata": {},
   "outputs": [],
   "source": [
    "gdf_USCounties = gpd.read_file(shp_USCounties)\n",
    "gdf_USStates = gpd.read_file(shp_USStates)"
   ]
  },
  {
   "cell_type": "code",
   "execution_count": 5,
   "metadata": {},
   "outputs": [],
   "source": [
    "df_countyPouplations = pd.read_excel(excel_CountyPopulations)"
   ]
  },
  {
   "cell_type": "markdown",
   "metadata": {},
   "source": [
    "## Add in population data to counties"
   ]
  },
  {
   "cell_type": "code",
   "execution_count": 6,
   "metadata": {},
   "outputs": [],
   "source": [
    "fips = []\n",
    "for i,row in df_countyPouplations.iterrows():\n",
    "    fip = int(f\"{row['STATE']}{str(row['COUNTY']).zfill(3)}\")\n",
    "    fips.append(fip)\n",
    "df_countyPouplations[\"fips\"] = fips"
   ]
  },
  {
   "cell_type": "code",
   "execution_count": 7,
   "metadata": {},
   "outputs": [
    {
     "data": {
      "text/plain": [
       "0        1000\n",
       "1        1001\n",
       "2        1003\n",
       "3        1005\n",
       "4        1007\n",
       "        ...  \n",
       "3188    56037\n",
       "3189    56039\n",
       "3190    56041\n",
       "3191    56043\n",
       "3192    56045\n",
       "Name: fips, Length: 3193, dtype: int64"
      ]
     },
     "execution_count": 7,
     "metadata": {},
     "output_type": "execute_result"
    }
   ],
   "source": [
    "df_countyPouplations[\"fips\"]"
   ]
  },
  {
   "cell_type": "code",
   "execution_count": 8,
   "metadata": {},
   "outputs": [],
   "source": [
    "gdf_USCounties = gdf_USCounties[[\"STATEFP\",\"COUNTYFP\",\"GEOID\",\"NAME\",\"NAMELSAD\",\"geometry\"]]"
   ]
  },
  {
   "cell_type": "code",
   "execution_count": 9,
   "metadata": {},
   "outputs": [],
   "source": [
    "gdf_USCounties[\"GEOID\"] = gdf_USCounties[\"GEOID\"].astype(\"int\")"
   ]
  },
  {
   "cell_type": "code",
   "execution_count": 10,
   "metadata": {},
   "outputs": [
    {
     "data": {
      "text/plain": [
       "3193"
      ]
     },
     "execution_count": 10,
     "metadata": {},
     "output_type": "execute_result"
    }
   ],
   "source": [
    "len(fips)"
   ]
  },
  {
   "cell_type": "code",
   "execution_count": 11,
   "metadata": {},
   "outputs": [
    {
     "data": {
      "text/plain": [
       "3233"
      ]
     },
     "execution_count": 11,
     "metadata": {},
     "output_type": "execute_result"
    }
   ],
   "source": [
    "len(list(gdf_USCounties[\"GEOID\"]))"
   ]
  },
  {
   "cell_type": "code",
   "execution_count": 12,
   "metadata": {},
   "outputs": [
    {
     "data": {
      "text/html": [
       "<div>\n",
       "<style scoped>\n",
       "    .dataframe tbody tr th:only-of-type {\n",
       "        vertical-align: middle;\n",
       "    }\n",
       "\n",
       "    .dataframe tbody tr th {\n",
       "        vertical-align: top;\n",
       "    }\n",
       "\n",
       "    .dataframe thead th {\n",
       "        text-align: right;\n",
       "    }\n",
       "</style>\n",
       "<table border=\"1\" class=\"dataframe\">\n",
       "  <thead>\n",
       "    <tr style=\"text-align: right;\">\n",
       "      <th></th>\n",
       "      <th>STATEFP</th>\n",
       "      <th>COUNTYFP</th>\n",
       "      <th>GEOID</th>\n",
       "      <th>NAME</th>\n",
       "      <th>NAMELSAD</th>\n",
       "      <th>geometry</th>\n",
       "    </tr>\n",
       "  </thead>\n",
       "  <tbody>\n",
       "    <tr>\n",
       "      <th>1328</th>\n",
       "      <td>01</td>\n",
       "      <td>001</td>\n",
       "      <td>1001</td>\n",
       "      <td>Autauga</td>\n",
       "      <td>Autauga County</td>\n",
       "      <td>POLYGON ((-86.90310 32.54063, -86.90311 32.540...</td>\n",
       "    </tr>\n",
       "    <tr>\n",
       "      <th>1246</th>\n",
       "      <td>01</td>\n",
       "      <td>003</td>\n",
       "      <td>1003</td>\n",
       "      <td>Baldwin</td>\n",
       "      <td>Baldwin County</td>\n",
       "      <td>POLYGON ((-87.99068 30.55549, -87.99051 30.560...</td>\n",
       "    </tr>\n",
       "    <tr>\n",
       "      <th>1827</th>\n",
       "      <td>01</td>\n",
       "      <td>005</td>\n",
       "      <td>1005</td>\n",
       "      <td>Barbour</td>\n",
       "      <td>Barbour County</td>\n",
       "      <td>POLYGON ((-85.42982 32.04598, -85.42985 32.046...</td>\n",
       "    </tr>\n",
       "    <tr>\n",
       "      <th>3014</th>\n",
       "      <td>01</td>\n",
       "      <td>007</td>\n",
       "      <td>1007</td>\n",
       "      <td>Bibb</td>\n",
       "      <td>Bibb County</td>\n",
       "      <td>POLYGON ((-87.31226 33.08622, -87.31218 33.087...</td>\n",
       "    </tr>\n",
       "    <tr>\n",
       "      <th>855</th>\n",
       "      <td>01</td>\n",
       "      <td>009</td>\n",
       "      <td>1009</td>\n",
       "      <td>Blount</td>\n",
       "      <td>Blount County</td>\n",
       "      <td>POLYGON ((-86.74919 33.99760, -86.74902 33.997...</td>\n",
       "    </tr>\n",
       "  </tbody>\n",
       "</table>\n",
       "</div>"
      ],
      "text/plain": [
       "     STATEFP COUNTYFP  GEOID     NAME        NAMELSAD  \\\n",
       "1328      01      001   1001  Autauga  Autauga County   \n",
       "1246      01      003   1003  Baldwin  Baldwin County   \n",
       "1827      01      005   1005  Barbour  Barbour County   \n",
       "3014      01      007   1007     Bibb     Bibb County   \n",
       "855       01      009   1009   Blount   Blount County   \n",
       "\n",
       "                                               geometry  \n",
       "1328  POLYGON ((-86.90310 32.54063, -86.90311 32.540...  \n",
       "1246  POLYGON ((-87.99068 30.55549, -87.99051 30.560...  \n",
       "1827  POLYGON ((-85.42982 32.04598, -85.42985 32.046...  \n",
       "3014  POLYGON ((-87.31226 33.08622, -87.31218 33.087...  \n",
       "855   POLYGON ((-86.74919 33.99760, -86.74902 33.997...  "
      ]
     },
     "execution_count": 12,
     "metadata": {},
     "output_type": "execute_result"
    }
   ],
   "source": [
    "gdf_USCounties.sort_values(\"GEOID\").head()"
   ]
  },
  {
   "cell_type": "code",
   "execution_count": 13,
   "metadata": {},
   "outputs": [],
   "source": [
    "gdf_USCounties = pd.merge(left=gdf_USCounties,right=df_countyPouplations,left_on=\"GEOID\",right_on=\"fips\")"
   ]
  },
  {
   "cell_type": "code",
   "execution_count": 14,
   "metadata": {},
   "outputs": [],
   "source": [
    "gdf_USCounties = gdf_USCounties[[\"STATEFP\",\"COUNTYFP\",\"GEOID\",\"NAME\",\"NAMELSAD\",\"geometry\",\"POPESTIMATE2019\"]]"
   ]
  },
  {
   "cell_type": "code",
   "execution_count": 15,
   "metadata": {},
   "outputs": [
    {
     "data": {
      "text/plain": [
       "3193"
      ]
     },
     "execution_count": 15,
     "metadata": {},
     "output_type": "execute_result"
    }
   ],
   "source": [
    "len(df_countyPouplations)"
   ]
  },
  {
   "cell_type": "code",
   "execution_count": 16,
   "metadata": {},
   "outputs": [
    {
     "data": {
      "text/plain": [
       "3142"
      ]
     },
     "execution_count": 16,
     "metadata": {},
     "output_type": "execute_result"
    }
   ],
   "source": [
    "len(gdf_USCounties)"
   ]
  },
  {
   "cell_type": "code",
   "execution_count": 17,
   "metadata": {},
   "outputs": [
    {
     "data": {
      "text/plain": [
       "<matplotlib.axes._subplots.AxesSubplot at 0x137eeff4148>"
      ]
     },
     "execution_count": 17,
     "metadata": {},
     "output_type": "execute_result"
    },
    {
     "data": {
      "image/png": "[encoded data removed]",
      "text/plain": [
       "<Figure size 432x288 with 1 Axes>"
      ]
     },
     "metadata": {
      "needs_background": "light"
     },
     "output_type": "display_data"
    }
   ],
   "source": [
    "gdf_USCounties.cx[-125:-50, 20:70].plot(\"POPESTIMATE2019\")"
   ]
  },
  {
   "cell_type": "markdown",
   "metadata": {},
   "source": [
    "## Load the NYT Data"
   ]
  },
  {
   "cell_type": "markdown",
   "metadata": {},
   "source": [
    "KLUDGE- create custom fips for New York City and Kansas City"
   ]
  },
  {
   "cell_type": "code",
   "execution_count": 18,
   "metadata": {},
   "outputs": [],
   "source": [
    "df_nytCountyData = pd.read_csv(nytCountyData)"
   ]
  },
  {
   "cell_type": "code",
   "execution_count": 19,
   "metadata": {},
   "outputs": [],
   "source": [
    "nycGeometry = gdf_USCounties[gdf_USCounties[\"GEOID\"] == 36047].geometry.iloc[0]"
   ]
  },
  {
   "cell_type": "code",
   "execution_count": 20,
   "metadata": {},
   "outputs": [],
   "source": [
    "kcGeometry = gdf_USCounties[gdf_USCounties[\"GEOID\"] == 29095].geometry.iloc[0]"
   ]
  },
  {
   "cell_type": "code",
   "execution_count": 21,
   "metadata": {},
   "outputs": [],
   "source": [
    "df_nytCountyData.loc[(df_nytCountyData.county==\"New York City\"),\"fips\"]=360470"
   ]
  },
  {
   "cell_type": "code",
   "execution_count": 22,
   "metadata": {},
   "outputs": [],
   "source": [
    "df_nytCountyData.loc[(df_nytCountyData.county==\"Kansas City\"),\"fips\"]=290950"
   ]
  },
  {
   "cell_type": "code",
   "execution_count": 23,
   "metadata": {},
   "outputs": [],
   "source": [
    "df_nytCountyData = df_nytCountyData.dropna(subset=[\"fips\"])"
   ]
  },
  {
   "cell_type": "code",
   "execution_count": 24,
   "metadata": {},
   "outputs": [],
   "source": [
    "df_nytCountyData[\"fips\"] = df_nytCountyData[\"fips\"].astype(\"int\")"
   ]
  },
  {
   "cell_type": "code",
   "execution_count": 25,
   "metadata": {},
   "outputs": [
    {
     "data": {
      "text/html": [
       "<div>\n",
       "<style scoped>\n",
       "    .dataframe tbody tr th:only-of-type {\n",
       "        vertical-align: middle;\n",
       "    }\n",
       "\n",
       "    .dataframe tbody tr th {\n",
       "        vertical-align: top;\n",
       "    }\n",
       "\n",
       "    .dataframe thead th {\n",
       "        text-align: right;\n",
       "    }\n",
       "</style>\n",
       "<table border=\"1\" class=\"dataframe\">\n",
       "  <thead>\n",
       "    <tr style=\"text-align: right;\">\n",
       "      <th></th>\n",
       "      <th>date</th>\n",
       "      <th>county</th>\n",
       "      <th>state</th>\n",
       "      <th>fips</th>\n",
       "      <th>cases</th>\n",
       "      <th>deaths</th>\n",
       "      <th>geometry</th>\n",
       "    </tr>\n",
       "  </thead>\n",
       "  <tbody>\n",
       "    <tr>\n",
       "      <th>37185</th>\n",
       "      <td>2020-04-06</td>\n",
       "      <td>New York City</td>\n",
       "      <td>New York</td>\n",
       "      <td>360470</td>\n",
       "      <td>68776</td>\n",
       "      <td>2738</td>\n",
       "      <td>POLYGON ((-74.056468 40.631715, -74.0562609999...</td>\n",
       "    </tr>\n",
       "    <tr>\n",
       "      <th>34709</th>\n",
       "      <td>2020-04-05</td>\n",
       "      <td>New York City</td>\n",
       "      <td>New York</td>\n",
       "      <td>360470</td>\n",
       "      <td>67552</td>\n",
       "      <td>2472</td>\n",
       "      <td>POLYGON ((-74.056468 40.631715, -74.0562609999...</td>\n",
       "    </tr>\n",
       "    <tr>\n",
       "      <th>32273</th>\n",
       "      <td>2020-04-04</td>\n",
       "      <td>New York City</td>\n",
       "      <td>New York</td>\n",
       "      <td>360470</td>\n",
       "      <td>63307</td>\n",
       "      <td>2254</td>\n",
       "      <td>POLYGON ((-74.056468 40.631715, -74.0562609999...</td>\n",
       "    </tr>\n",
       "    <tr>\n",
       "      <th>29882</th>\n",
       "      <td>2020-04-03</td>\n",
       "      <td>New York City</td>\n",
       "      <td>New York</td>\n",
       "      <td>360470</td>\n",
       "      <td>57160</td>\n",
       "      <td>1867</td>\n",
       "      <td>POLYGON ((-74.056468 40.631715, -74.0562609999...</td>\n",
       "    </tr>\n",
       "    <tr>\n",
       "      <th>27559</th>\n",
       "      <td>2020-04-02</td>\n",
       "      <td>New York City</td>\n",
       "      <td>New York</td>\n",
       "      <td>360470</td>\n",
       "      <td>51810</td>\n",
       "      <td>1562</td>\n",
       "      <td>POLYGON ((-74.056468 40.631715, -74.0562609999...</td>\n",
       "    </tr>\n",
       "    <tr>\n",
       "      <th>...</th>\n",
       "      <td>...</td>\n",
       "      <td>...</td>\n",
       "      <td>...</td>\n",
       "      <td>...</td>\n",
       "      <td>...</td>\n",
       "      <td>...</td>\n",
       "      <td>...</td>\n",
       "    </tr>\n",
       "    <tr>\n",
       "      <th>13178</th>\n",
       "      <td>2020-03-26</td>\n",
       "      <td>Humphreys</td>\n",
       "      <td>Mississippi</td>\n",
       "      <td>28053</td>\n",
       "      <td>1</td>\n",
       "      <td>0</td>\n",
       "      <td>NaN</td>\n",
       "    </tr>\n",
       "    <tr>\n",
       "      <th>13176</th>\n",
       "      <td>2020-03-26</td>\n",
       "      <td>Hinds</td>\n",
       "      <td>Mississippi</td>\n",
       "      <td>28049</td>\n",
       "      <td>43</td>\n",
       "      <td>0</td>\n",
       "      <td>NaN</td>\n",
       "    </tr>\n",
       "    <tr>\n",
       "      <th>13175</th>\n",
       "      <td>2020-03-26</td>\n",
       "      <td>Harrison</td>\n",
       "      <td>Mississippi</td>\n",
       "      <td>28047</td>\n",
       "      <td>31</td>\n",
       "      <td>0</td>\n",
       "      <td>NaN</td>\n",
       "    </tr>\n",
       "    <tr>\n",
       "      <th>13173</th>\n",
       "      <td>2020-03-26</td>\n",
       "      <td>Grenada</td>\n",
       "      <td>Mississippi</td>\n",
       "      <td>28043</td>\n",
       "      <td>2</td>\n",
       "      <td>0</td>\n",
       "      <td>NaN</td>\n",
       "    </tr>\n",
       "    <tr>\n",
       "      <th>38196</th>\n",
       "      <td>2020-04-06</td>\n",
       "      <td>Washakie</td>\n",
       "      <td>Wyoming</td>\n",
       "      <td>56043</td>\n",
       "      <td>4</td>\n",
       "      <td>0</td>\n",
       "      <td>NaN</td>\n",
       "    </tr>\n",
       "  </tbody>\n",
       "</table>\n",
       "<p>37703 rows × 7 columns</p>\n",
       "</div>"
      ],
      "text/plain": [
       "             date         county        state    fips  cases  deaths  \\\n",
       "37185  2020-04-06  New York City     New York  360470  68776    2738   \n",
       "34709  2020-04-05  New York City     New York  360470  67552    2472   \n",
       "32273  2020-04-04  New York City     New York  360470  63307    2254   \n",
       "29882  2020-04-03  New York City     New York  360470  57160    1867   \n",
       "27559  2020-04-02  New York City     New York  360470  51810    1562   \n",
       "...           ...            ...          ...     ...    ...     ...   \n",
       "13178  2020-03-26      Humphreys  Mississippi   28053      1       0   \n",
       "13176  2020-03-26          Hinds  Mississippi   28049     43       0   \n",
       "13175  2020-03-26       Harrison  Mississippi   28047     31       0   \n",
       "13173  2020-03-26        Grenada  Mississippi   28043      2       0   \n",
       "38196  2020-04-06       Washakie      Wyoming   56043      4       0   \n",
       "\n",
       "                                                geometry  \n",
       "37185  POLYGON ((-74.056468 40.631715, -74.0562609999...  \n",
       "34709  POLYGON ((-74.056468 40.631715, -74.0562609999...  \n",
       "32273  POLYGON ((-74.056468 40.631715, -74.0562609999...  \n",
       "29882  POLYGON ((-74.056468 40.631715, -74.0562609999...  \n",
       "27559  POLYGON ((-74.056468 40.631715, -74.0562609999...  \n",
       "...                                                  ...  \n",
       "13178                                                NaN  \n",
       "13176                                                NaN  \n",
       "13175                                                NaN  \n",
       "13173                                                NaN  \n",
       "38196                                                NaN  \n",
       "\n",
       "[37703 rows x 7 columns]"
      ]
     },
     "execution_count": 25,
     "metadata": {},
     "output_type": "execute_result"
    }
   ],
   "source": [
    "df_nytCountyData.sort_values(\"deaths\",ascending=False)"
   ]
  },
  {
   "cell_type": "code",
   "execution_count": 26,
   "metadata": {},
   "outputs": [],
   "source": [
    "gdf_countyTimeSeries = gpd.GeoDataFrame(pd.merge(left=df_nytCountyData,right=gdf_USCounties,left_on=\"fips\",right_on=\"GEOID\"))"
   ]
  },
  {
   "cell_type": "code",
   "execution_count": 27,
   "metadata": {},
   "outputs": [],
   "source": [
    "gdf_countyTimeSeries['date'] = pd.to_datetime(gdf_countyTimeSeries['date'], errors='coerce')"
   ]
  },
  {
   "cell_type": "code",
   "execution_count": null,
   "metadata": {},
   "outputs": [],
   "source": [
    "gdf_countyTimeSeries.loc[(gdf_countyTimeSeries.county==\"New York City\"),\"geometry\"]=nycGeometry\n",
    "gdf_countyTimeSeries.loc[(gdf_countyTimeSeries.county==\"Kansas City\"),\"geometry\"]=kcGeometry"
   ]
  },
  {
   "cell_type": "code",
   "execution_count": 28,
   "metadata": {},
   "outputs": [
    {
     "data": {
      "text/plain": [
       "<matplotlib.axes._subplots.AxesSubplot at 0x137ead96108>"
      ]
     },
     "execution_count": 28,
     "metadata": {},
     "output_type": "execute_result"
    },
    {
     "data": {
      "image/png": "[encoded data removed]",
      "text/plain": [
       "<Figure size 432x288 with 1 Axes>"
      ]
     },
     "metadata": {
      "needs_background": "light"
     },
     "output_type": "display_data"
    }
   ],
   "source": [
    "sns.distplot(gdf_countyTimeSeries[\"date\"])"
   ]
  },
  {
   "cell_type": "code",
   "execution_count": 29,
   "metadata": {},
   "outputs": [],
   "source": [
    "gdf_countyTimeSeriesDiff = gdf_countyTimeSeries.copy(deep=True)"
   ]
  },
  {
   "cell_type": "code",
   "execution_count": 30,
   "metadata": {},
   "outputs": [],
   "source": [
    "gdf_countyTimeSeriesDiff[\"new cases\"] = gdf_countyTimeSeriesDiff.groupby(\"fips\")[[\"cases\"]].diff().fillna(0)\n",
    "gdf_countyTimeSeriesDiff[\"new deaths\"] = gdf_countyTimeSeriesDiff.groupby(\"fips\")[[\"deaths\"]].diff().fillna(0)"
   ]
  },
  {
   "cell_type": "code",
   "execution_count": 31,
   "metadata": {},
   "outputs": [
    {
     "data": {
      "text/html": [
       "<div>\n",
       "<style scoped>\n",
       "    .dataframe tbody tr th:only-of-type {\n",
       "        vertical-align: middle;\n",
       "    }\n",
       "\n",
       "    .dataframe tbody tr th {\n",
       "        vertical-align: top;\n",
       "    }\n",
       "\n",
       "    .dataframe thead th {\n",
       "        text-align: right;\n",
       "    }\n",
       "</style>\n",
       "<table border=\"1\" class=\"dataframe\">\n",
       "  <thead>\n",
       "    <tr style=\"text-align: right;\">\n",
       "      <th></th>\n",
       "      <th>date</th>\n",
       "      <th>county</th>\n",
       "      <th>state</th>\n",
       "      <th>fips</th>\n",
       "      <th>cases</th>\n",
       "      <th>deaths</th>\n",
       "      <th>geometry_x</th>\n",
       "      <th>STATEFP</th>\n",
       "      <th>COUNTYFP</th>\n",
       "      <th>GEOID</th>\n",
       "      <th>NAME</th>\n",
       "      <th>NAMELSAD</th>\n",
       "      <th>geometry_y</th>\n",
       "      <th>POPESTIMATE2019</th>\n",
       "      <th>new cases</th>\n",
       "      <th>new deaths</th>\n",
       "    </tr>\n",
       "  </thead>\n",
       "  <tbody>\n",
       "    <tr>\n",
       "      <th>3855</th>\n",
       "      <td>2020-04-06</td>\n",
       "      <td>Suffolk</td>\n",
       "      <td>New York</td>\n",
       "      <td>36103</td>\n",
       "      <td>14473</td>\n",
       "      <td>237</td>\n",
       "      <td>NaN</td>\n",
       "      <td>36</td>\n",
       "      <td>103</td>\n",
       "      <td>36103</td>\n",
       "      <td>Suffolk</td>\n",
       "      <td>Suffolk County</td>\n",
       "      <td>POLYGON ((-72.86371 41.11338, -72.86351 41.113...</td>\n",
       "      <td>1476601</td>\n",
       "      <td>1540.0</td>\n",
       "      <td>62.0</td>\n",
       "    </tr>\n",
       "    <tr>\n",
       "      <th>2008</th>\n",
       "      <td>2020-04-06</td>\n",
       "      <td>Nassau</td>\n",
       "      <td>New York</td>\n",
       "      <td>36059</td>\n",
       "      <td>15616</td>\n",
       "      <td>535</td>\n",
       "      <td>NaN</td>\n",
       "      <td>36</td>\n",
       "      <td>059</td>\n",
       "      <td>36059</td>\n",
       "      <td>Nassau</td>\n",
       "      <td>Nassau County</td>\n",
       "      <td>POLYGON ((-73.69445 40.90305, -73.62815 40.941...</td>\n",
       "      <td>1356924</td>\n",
       "      <td>1218.0</td>\n",
       "      <td>139.0</td>\n",
       "    </tr>\n",
       "    <tr>\n",
       "      <th>5092</th>\n",
       "      <td>2020-04-06</td>\n",
       "      <td>Wayne</td>\n",
       "      <td>Michigan</td>\n",
       "      <td>26163</td>\n",
       "      <td>8270</td>\n",
       "      <td>346</td>\n",
       "      <td>NaN</td>\n",
       "      <td>26</td>\n",
       "      <td>163</td>\n",
       "      <td>26163</td>\n",
       "      <td>Wayne</td>\n",
       "      <td>Wayne County</td>\n",
       "      <td>POLYGON ((-83.28780 42.44268, -83.28764 42.442...</td>\n",
       "      <td>1749343</td>\n",
       "      <td>752.0</td>\n",
       "      <td>53.0</td>\n",
       "    </tr>\n",
       "    <tr>\n",
       "      <th>150</th>\n",
       "      <td>2020-04-06</td>\n",
       "      <td>Cook</td>\n",
       "      <td>Illinois</td>\n",
       "      <td>17031</td>\n",
       "      <td>8728</td>\n",
       "      <td>209</td>\n",
       "      <td>NaN</td>\n",
       "      <td>17</td>\n",
       "      <td>031</td>\n",
       "      <td>17031</td>\n",
       "      <td>Cook</td>\n",
       "      <td>Cook County</td>\n",
       "      <td>POLYGON ((-88.23798 42.06693, -88.23797 42.066...</td>\n",
       "      <td>5150233</td>\n",
       "      <td>685.0</td>\n",
       "      <td>23.0</td>\n",
       "    </tr>\n",
       "    <tr>\n",
       "      <th>1642</th>\n",
       "      <td>2020-04-06</td>\n",
       "      <td>Bergen</td>\n",
       "      <td>New Jersey</td>\n",
       "      <td>34003</td>\n",
       "      <td>6862</td>\n",
       "      <td>200</td>\n",
       "      <td>NaN</td>\n",
       "      <td>34</td>\n",
       "      <td>003</td>\n",
       "      <td>34003</td>\n",
       "      <td>Bergen</td>\n",
       "      <td>Bergen County</td>\n",
       "      <td>POLYGON ((-74.24853 40.99209, -74.24860 40.992...</td>\n",
       "      <td>932202</td>\n",
       "      <td>675.0</td>\n",
       "      <td>11.0</td>\n",
       "    </tr>\n",
       "    <tr>\n",
       "      <th>...</th>\n",
       "      <td>...</td>\n",
       "      <td>...</td>\n",
       "      <td>...</td>\n",
       "      <td>...</td>\n",
       "      <td>...</td>\n",
       "      <td>...</td>\n",
       "      <td>...</td>\n",
       "      <td>...</td>\n",
       "      <td>...</td>\n",
       "      <td>...</td>\n",
       "      <td>...</td>\n",
       "      <td>...</td>\n",
       "      <td>...</td>\n",
       "      <td>...</td>\n",
       "      <td>...</td>\n",
       "      <td>...</td>\n",
       "    </tr>\n",
       "    <tr>\n",
       "      <th>30554</th>\n",
       "      <td>2020-04-06</td>\n",
       "      <td>Franklin</td>\n",
       "      <td>Georgia</td>\n",
       "      <td>13119</td>\n",
       "      <td>3</td>\n",
       "      <td>0</td>\n",
       "      <td>NaN</td>\n",
       "      <td>13</td>\n",
       "      <td>119</td>\n",
       "      <td>13119</td>\n",
       "      <td>Franklin</td>\n",
       "      <td>Franklin County</td>\n",
       "      <td>POLYGON ((-83.37694 34.30579, -83.37706 34.305...</td>\n",
       "      <td>23349</td>\n",
       "      <td>-2.0</td>\n",
       "      <td>0.0</td>\n",
       "    </tr>\n",
       "    <tr>\n",
       "      <th>30248</th>\n",
       "      <td>2020-04-06</td>\n",
       "      <td>Ohio</td>\n",
       "      <td>West Virginia</td>\n",
       "      <td>54069</td>\n",
       "      <td>15</td>\n",
       "      <td>0</td>\n",
       "      <td>NaN</td>\n",
       "      <td>54</td>\n",
       "      <td>069</td>\n",
       "      <td>54069</td>\n",
       "      <td>Ohio</td>\n",
       "      <td>Ohio County</td>\n",
       "      <td>POLYGON ((-80.62760 40.02517, -80.62770 40.025...</td>\n",
       "      <td>41411</td>\n",
       "      <td>-3.0</td>\n",
       "      <td>0.0</td>\n",
       "    </tr>\n",
       "    <tr>\n",
       "      <th>22766</th>\n",
       "      <td>2020-04-06</td>\n",
       "      <td>Montour</td>\n",
       "      <td>Pennsylvania</td>\n",
       "      <td>42093</td>\n",
       "      <td>33</td>\n",
       "      <td>0</td>\n",
       "      <td>NaN</td>\n",
       "      <td>42</td>\n",
       "      <td>093</td>\n",
       "      <td>42093</td>\n",
       "      <td>Montour</td>\n",
       "      <td>Montour County</td>\n",
       "      <td>POLYGON ((-76.77234 41.01629, -76.77060 41.018...</td>\n",
       "      <td>18230</td>\n",
       "      <td>-4.0</td>\n",
       "      <td>0.0</td>\n",
       "    </tr>\n",
       "    <tr>\n",
       "      <th>28265</th>\n",
       "      <td>2020-04-06</td>\n",
       "      <td>Decatur</td>\n",
       "      <td>Georgia</td>\n",
       "      <td>13087</td>\n",
       "      <td>13</td>\n",
       "      <td>0</td>\n",
       "      <td>NaN</td>\n",
       "      <td>13</td>\n",
       "      <td>087</td>\n",
       "      <td>13087</td>\n",
       "      <td>Decatur</td>\n",
       "      <td>Decatur County</td>\n",
       "      <td>POLYGON ((-84.85956 30.75303, -84.85962 30.753...</td>\n",
       "      <td>26404</td>\n",
       "      <td>-4.0</td>\n",
       "      <td>0.0</td>\n",
       "    </tr>\n",
       "    <tr>\n",
       "      <th>34749</th>\n",
       "      <td>2020-04-06</td>\n",
       "      <td>Mifflin</td>\n",
       "      <td>Pennsylvania</td>\n",
       "      <td>42087</td>\n",
       "      <td>5</td>\n",
       "      <td>0</td>\n",
       "      <td>NaN</td>\n",
       "      <td>42</td>\n",
       "      <td>087</td>\n",
       "      <td>42087</td>\n",
       "      <td>Mifflin</td>\n",
       "      <td>Mifflin County</td>\n",
       "      <td>POLYGON ((-77.78773 40.61208, -77.78753 40.612...</td>\n",
       "      <td>46138</td>\n",
       "      <td>-4.0</td>\n",
       "      <td>0.0</td>\n",
       "    </tr>\n",
       "  </tbody>\n",
       "</table>\n",
       "<p>2467 rows × 16 columns</p>\n",
       "</div>"
      ],
      "text/plain": [
       "            date    county          state   fips  cases  deaths geometry_x  \\\n",
       "3855  2020-04-06   Suffolk       New York  36103  14473     237        NaN   \n",
       "2008  2020-04-06    Nassau       New York  36059  15616     535        NaN   \n",
       "5092  2020-04-06     Wayne       Michigan  26163   8270     346        NaN   \n",
       "150   2020-04-06      Cook       Illinois  17031   8728     209        NaN   \n",
       "1642  2020-04-06    Bergen     New Jersey  34003   6862     200        NaN   \n",
       "...          ...       ...            ...    ...    ...     ...        ...   \n",
       "30554 2020-04-06  Franklin        Georgia  13119      3       0        NaN   \n",
       "30248 2020-04-06      Ohio  West Virginia  54069     15       0        NaN   \n",
       "22766 2020-04-06   Montour   Pennsylvania  42093     33       0        NaN   \n",
       "28265 2020-04-06   Decatur        Georgia  13087     13       0        NaN   \n",
       "34749 2020-04-06   Mifflin   Pennsylvania  42087      5       0        NaN   \n",
       "\n",
       "      STATEFP COUNTYFP  GEOID      NAME         NAMELSAD  \\\n",
       "3855       36      103  36103   Suffolk   Suffolk County   \n",
       "2008       36      059  36059    Nassau    Nassau County   \n",
       "5092       26      163  26163     Wayne     Wayne County   \n",
       "150        17      031  17031      Cook      Cook County   \n",
       "1642       34      003  34003    Bergen    Bergen County   \n",
       "...       ...      ...    ...       ...              ...   \n",
       "30554      13      119  13119  Franklin  Franklin County   \n",
       "30248      54      069  54069      Ohio      Ohio County   \n",
       "22766      42      093  42093   Montour   Montour County   \n",
       "28265      13      087  13087   Decatur   Decatur County   \n",
       "34749      42      087  42087   Mifflin   Mifflin County   \n",
       "\n",
       "                                              geometry_y  POPESTIMATE2019  \\\n",
       "3855   POLYGON ((-72.86371 41.11338, -72.86351 41.113...          1476601   \n",
       "2008   POLYGON ((-73.69445 40.90305, -73.62815 40.941...          1356924   \n",
       "5092   POLYGON ((-83.28780 42.44268, -83.28764 42.442...          1749343   \n",
       "150    POLYGON ((-88.23798 42.06693, -88.23797 42.066...          5150233   \n",
       "1642   POLYGON ((-74.24853 40.99209, -74.24860 40.992...           932202   \n",
       "...                                                  ...              ...   \n",
       "30554  POLYGON ((-83.37694 34.30579, -83.37706 34.305...            23349   \n",
       "30248  POLYGON ((-80.62760 40.02517, -80.62770 40.025...            41411   \n",
       "22766  POLYGON ((-76.77234 41.01629, -76.77060 41.018...            18230   \n",
       "28265  POLYGON ((-84.85956 30.75303, -84.85962 30.753...            26404   \n",
       "34749  POLYGON ((-77.78773 40.61208, -77.78753 40.612...            46138   \n",
       "\n",
       "       new cases  new deaths  \n",
       "3855      1540.0        62.0  \n",
       "2008      1218.0       139.0  \n",
       "5092       752.0        53.0  \n",
       "150        685.0        23.0  \n",
       "1642       675.0        11.0  \n",
       "...          ...         ...  \n",
       "30554       -2.0         0.0  \n",
       "30248       -3.0         0.0  \n",
       "22766       -4.0         0.0  \n",
       "28265       -4.0         0.0  \n",
       "34749       -4.0         0.0  \n",
       "\n",
       "[2467 rows x 16 columns]"
      ]
     },
     "execution_count": 31,
     "metadata": {},
     "output_type": "execute_result"
    }
   ],
   "source": [
    "gdf_countyTimeSeriesDiff[gdf_countyTimeSeriesDiff[\"date\"] == dt.datetime(month=4,day=6,year=2020)].sort_values(\"new cases\",ascending=False)"
   ]
  },
  {
   "cell_type": "code",
   "execution_count": 32,
   "metadata": {},
   "outputs": [],
   "source": [
    "def filterByDate(gdf,dateColumn=\"date\",month=3,day=27,year=2020,operator=\"=\"):\n",
    "    filterDate = dt.datetime(month=month,day=day,year=year)\n",
    "    if operator == \"=\":\n",
    "        gdf = gdf[gdf[dateColumn] == filterDate]\n",
    "    elif operator == \"<\":\n",
    "        gdf = gdf[gdf[dateColumn] < filterDate]\n",
    "    elif operator == \"<=\":\n",
    "            gdf = gdf[gdf[dateColumn] <= filterDate]\n",
    "    elif operator == \">\":\n",
    "            gdf = gdf[gdf[dateColumn] > filterDate]\n",
    "    elif operator == \">=\":\n",
    "            gdf = gdf[gdf[dateColumn] >= filterDate]\n",
    "    else:\n",
    "        raise(Exception(\"error, operator not recognized\"))\n",
    "    return gdf"
   ]
  },
  {
   "cell_type": "code",
   "execution_count": 33,
   "metadata": {},
   "outputs": [],
   "source": [
    "def plotController(month=3,day=1,year=2020):\n",
    "    fig,ax = plt.subplots(figsize=(50,20))\n",
    "    divider = make_axes_locatable(ax)\n",
    "    cax = divider.append_axes(\"right\", size=\"5%\", pad=0.1)\n",
    "    filterByDate(gdf_countyTimeSeriesDiff,year=year,month=month,day=day).cx[-125:-50, 20:70].plot(\"cases\",ax=ax,cax=cax,legend=\"True\")\n",
    "    gdf_USStates.boundary.cx[-125:-50, 20:70].plot(ax=ax)\n",
    "    ax.set_title(f\"Number of confirmed COVID-19 Cases, {month}-{day}-{year}\")"
   ]
  },
  {
   "cell_type": "code",
   "execution_count": 34,
   "metadata": {},
   "outputs": [
    {
     "data": {
      "application/vnd.jupyter.widget-view+json": {
       "model_id": "8fea1894b4b046709d80d0f6c1e1af91",
       "version_major": 2,
       "version_minor": 0
      },
      "text/plain": [
       "interactive(children=(IntSlider(value=3, description='month', max=12, min=1), IntSlider(value=27, description=…"
      ]
     },
     "metadata": {},
     "output_type": "display_data"
    },
    {
     "data": {
      "text/plain": [
       "<function __main__.plotController(month=3, day=1, year=2020)>"
      ]
     },
     "execution_count": 34,
     "metadata": {},
     "output_type": "execute_result"
    },
    {
     "data": {
      "image/png": "[encoded data removed]",
      "text/plain": [
       "<Figure size 3600x1440 with 2 Axes>"
      ]
     },
     "metadata": {
      "needs_background": "light"
     },
     "output_type": "display_data"
    }
   ],
   "source": [
    "interact(plotController,\n",
    "         month=widgets.IntSlider(min=1,max=12,step=1,value=3),\n",
    "         day=widgets.IntSlider(min=1,max=31,step=1,value=27),\n",
    "         year=widgets.IntSlider(min=2019,max=2021,step=1,value=2020),\n",
    "        )"
   ]
  },
  {
   "cell_type": "markdown",
   "metadata": {},
   "source": [
    "## Assumptions"
   ]
  },
  {
   "cell_type": "code",
   "execution_count": null,
   "metadata": {},
   "outputs": [],
   "source": [
    "rate_fatality = 0.8/100 # https://finance.yahoo.com/news/hell-coming-mathematical-proof-185019616.html\n",
    "days_to_onset = 5\n",
    "days_to_hospitalization = 10\n",
    "days_to_outcome = 24"
   ]
  },
  {
   "cell_type": "markdown",
   "metadata": {},
   "source": [
    "## Analyses"
   ]
  },
  {
   "cell_type": "markdown",
   "metadata": {},
   "source": [
    "Estimating cohort risk"
   ]
  },
  {
   "cell_type": "markdown",
   "metadata": {},
   "source": [
    "- Assume $P_{{infection}}$ is homogenous and homogenous both spatially and across population subsets\n",
    "- Specify assumed rates for $P_{{{{hospitalization}}_{{age}}}}$ and $P_{{{{death}}_{{age}}}}$\n",
    "- Specify assumed rates for $P_{{{{absence}}_{{non-illness}}}}$"
   ]
  },
  {
   "cell_type": "markdown",
   "metadata": {},
   "source": [
    "SIR Model\n",
    "\n",
    "https://scipython.com/book/chapter-8-scipy/additional-examples/the-sir-epidemic-model/"
   ]
  },
  {
   "cell_type": "code",
   "execution_count": null,
   "metadata": {},
   "outputs": [],
   "source": [
    "import numpy as np\n",
    "from scipy.integrate import odeint\n",
    "import matplotlib.pyplot as plt\n",
    "\n",
    "# Total population, N.\n",
    "N = 1000\n",
    "# Initial number of infected and recovered individuals, I0 and R0.\n",
    "I0, R0 = 1, 0\n",
    "# Everyone else, S0, is susceptible to infection initially.\n",
    "S0 = N - I0 - R0\n",
    "# Contact rate, beta, and mean recovery rate, gamma, (in 1/days).\n",
    "beta, gamma = 0.2, 1./14 \n",
    "# A grid of time points (in days)\n",
    "t = np.linspace(0, 160, 160)\n",
    "\n",
    "# The SIR model differential equations.\n",
    "def deriv(y, t, N, beta, gamma):\n",
    "    S, I, R = y\n",
    "    dSdt = -beta * S * I / N\n",
    "    dIdt = beta * S * I / N - gamma * I\n",
    "    dRdt = gamma * I\n",
    "    return dSdt, dIdt, dRdt\n",
    "\n",
    "# Initial conditions vector\n",
    "y0 = S0, I0, R0\n",
    "# Integrate the SIR equations over the time grid, t.\n",
    "ret = odeint(deriv, y0, t, args=(N, beta, gamma))\n",
    "S, I, R = ret.T\n",
    "\n",
    "# Plot the data on three separate curves for S(t), I(t) and R(t)\n",
    "fig = plt.figure(facecolor='w')\n",
    "ax = fig.add_subplot(111, axisbelow=True)\n",
    "ax.plot(t, S/1000, 'b', alpha=0.5, lw=2, label='Susceptible')\n",
    "ax.plot(t, I/1000, 'r', alpha=0.5, lw=2, label='Infected')\n",
    "ax.plot(t, R/1000, 'g', alpha=0.5, lw=2, label='Recovered with immunity')\n",
    "ax.set_xlabel('Time /days')\n",
    "ax.set_ylabel('Number (1000s)')\n",
    "ax.set_ylim(0,1.2)\n",
    "ax.yaxis.set_tick_params(length=0)\n",
    "ax.xaxis.set_tick_params(length=0)\n",
    "ax.grid(b=True, which='major', c='w', lw=2, ls='-')\n",
    "legend = ax.legend()\n",
    "legend.get_frame().set_alpha(0.5)\n",
    "for spine in ('top', 'right', 'bottom', 'left'):\n",
    "    ax.spines[spine].set_visible(False)"
   ]
  },
  {
   "cell_type": "markdown",
   "metadata": {},
   "source": [
    "Take a look at https://github.com/Lewuathe/COVID19-SIR"
   ]
  },
  {
   "cell_type": "markdown",
   "metadata": {},
   "source": [
    "Also take a look at https://towardsdatascience.com/social-distancing-to-slow-the-coronavirus-768292f04296"
   ]
  },
  {
   "cell_type": "markdown",
   "metadata": {},
   "source": [
    "https://github.com/closedloop-ai/cv19index\n",
    "\n",
    "https://github.com/CodeForPhilly/chime"
   ]
  },
  {
   "cell_type": "markdown",
   "metadata": {},
   "source": [
    "https://github.com/coronafighter/coronaSEIR"
   ]
  },
  {
   "cell_type": "markdown",
   "metadata": {},
   "source": [
    "Playing with SIR models from \"Mathematical Epidemiology\" page 23\n",
    "\n",
    "$$S(t+\\Delta t) = S(t) - \\beta S(t)I(t)\\Delta t$$\n",
    "\n",
    "$$I(t+\\Delta t) = I(t) + \\beta S(t)I(t)\\Delta t - \\gamma I(t)\\Delta t$$"
   ]
  },
  {
   "cell_type": "markdown",
   "metadata": {},
   "source": [
    "$$\\mathbf{R}_0 = \\frac{\\beta N}{\\gamma}$$"
   ]
  },
  {
   "cell_type": "code",
   "execution_count": null,
   "metadata": {},
   "outputs": [],
   "source": [
    "N = 20_000_000 # Population\n",
    "γ = 1/14.0 # Recovery rate, meaning that the mean infectious period is 1/γ\n",
    "R0 = 2.5 # Basic reproduction number\n",
    "β = R0 * γ / N # Transmission rate per capita\n",
    "Δt = 0.1 # Time step for the solution method\n",
    "f = 0.5/100 # fatality rate from number of cases"
   ]
  },
  {
   "cell_type": "code",
   "execution_count": null,
   "metadata": {},
   "outputs": [],
   "source": [
    "I = 1\n",
    "S = N\n",
    "Is = [I]\n",
    "Ss = [S]\n",
    "F0 = 0\n",
    "Fs = [F0]\n",
    "ts = np.arange(0,200,Δt)\n",
    "for t in ts:\n",
    "    if S < 0:\n",
    "        S = 0\n",
    "    if I < 0:\n",
    "        I = 0\n",
    "    S_new = S - β * S * I * Δt\n",
    "    I_new = I + β * S * I * Δt - γ * I * Δt\n",
    "    S = S_new\n",
    "    I = I_new\n",
    "    R = γ * I * Δt\n",
    "    F0 += f * R\n",
    "    Fs.append(F0)\n",
    "    Ss.append(S)\n",
    "    Is.append(I)\n",
    "del Ss[-1] # kludge because for loop is not inclusive\n",
    "del Is[-1]\n",
    "del Fs[-1]"
   ]
  },
  {
   "cell_type": "code",
   "execution_count": null,
   "metadata": {},
   "outputs": [],
   "source": [
    "fig,ax = plt.subplots(figsize=(10,10))\n",
    "sns.lineplot(ts,np.array(Is)/N,ax=ax,label=\"Fraction Infected\")\n",
    "sns.lineplot(ts,np.array(Ss)/N,ax=ax,label=\"Fraction Susceptible\")\n",
    "sns.lineplot(ts,np.array(Fs)/N,ax=ax,label=\"Cumulative Fraction Dead\")\n",
    "ax.legend()\n",
    "ax.set_xlabel(\"Days\")\n",
    "ax.set_ylabel(\"Population Fraction\")\n",
    "ax.set_title(f\"Simple S.I.R. Model\\nγ={γ},$R_0$={R0}\")"
   ]
  },
  {
   "cell_type": "code",
   "execution_count": null,
   "metadata": {},
   "outputs": [],
   "source": [
    "F0"
   ]
  },
  {
   "cell_type": "markdown",
   "metadata": {},
   "source": [
    "## Let's set up a Bayesian Parameter Estimator"
   ]
  },
  {
   "cell_type": "markdown",
   "metadata": {},
   "source": [
    "$$S(t+\\Delta t) = S(t) - \\beta S(t)I(t)\\Delta t$$\n",
    "\n",
    "$$I(t+\\Delta t) = I(t) + \\beta S(t)I(t)\\Delta t - \\gamma I(t)\\Delta t$$\n",
    "\n",
    "$$\\mathbf{R}_0 = \\frac{\\beta N}{\\gamma}$$"
   ]
  },
  {
   "cell_type": "markdown",
   "metadata": {},
   "source": [
    "|Parameter|Interpretation|Value|References|\n",
    "|---|---|---|---|\n",
    "|$N$|County Population|2019 Estimate|DHS|\n",
    "|$N_I$|Initial Infected Population|Fixed|Judgement|\n",
    "|$\\mathbf{R}_0$|Basic Reproduction Number|$\\sim N(2.5,\\sigma^2=1.5)$|Judgement|\n",
    "|$\\beta$|Transmission Rate Per Capita|$\\sim N(1,\\sigma^2=1)$|Judgement|\n",
    "|$\\gamma$|Recovery Rate|$\\sim N(1,\\sigma^2=1)$|Judgement|\n",
    "|$f$|Fatality Fraction|$\\sim N(1,\\sigma^2=1)$|Judgement|"
   ]
  },
  {
   "cell_type": "code",
   "execution_count": null,
   "metadata": {},
   "outputs": [],
   "source": [
    "def SIR(fips,N,R0,γ,f,I=10,Δt=0.1,startDate=dt.datetime(year=2020,month=3,day=1),endDate=dt.datetime(year=2020,month=4,day=7)):\n",
    "    # look up county population\n",
    "    nDays = (endDate-startDate).days\n",
    "    dates = [startDate + dt.timedelta(days=x) for x in range(nDays)]\n",
    "    β = R0 * γ / N # Transmission rate per capita\n",
    "    I = 1\n",
    "    S = N\n",
    "    Is = [I]\n",
    "    Ss = [S]\n",
    "    ts = np.arange(0,nDays,Δt)\n",
    "    for t in ts:\n",
    "        if S < 0:\n",
    "            S = 0\n",
    "        if I < 0:\n",
    "            I = 0\n",
    "        S_new = S - β * S * I * Δt\n",
    "        I_new = I + β * S * I * Δt - γ * I * Δt\n",
    "        S = S_new\n",
    "        I = I_new\n",
    "        Ss.append(S)\n",
    "        Is.append(I)\n",
    "    del Ss[-1] # kludge because for loop is not inclusive\n",
    "    del Is[-1]\n",
    "    df = pd.DataFrame({\"date\":dates,\"I\":Is[0::int(1/Δt)],\"S\":Ss[0::int(1/Δt)]})\n",
    "    df = df.set_index(\"date\")\n",
    "    return df"
   ]
  },
  {
   "cell_type": "code",
   "execution_count": null,
   "metadata": {},
   "outputs": [],
   "source": [
    "SIR(100.0,200000.0,10.0,1/14.,0.02).plot()"
   ]
  },
  {
   "cell_type": "code",
   "execution_count": null,
   "metadata": {},
   "outputs": [],
   "source": [
    "gdf_countyTimeSeriesDiff[gdf_countyTimeSeriesDiff[\"fips\"]==53061].set_index(\"date\")[\"cases\"].plot()"
   ]
  },
  {
   "cell_type": "code",
   "execution_count": null,
   "metadata": {},
   "outputs": [],
   "source": [
    "gdf_countyTimeSeriesDiff[gdf_countyTimeSeriesDiff[\"fips\"]==36047].set_index(\"date\")[\"cases\"].plot()"
   ]
  },
  {
   "cell_type": "markdown",
   "metadata": {},
   "source": [
    "Note to self- cumulative cases seems to work"
   ]
  },
  {
   "cell_type": "code",
   "execution_count": null,
   "metadata": {},
   "outputs": [],
   "source": [
    "gdf_countyTimeSeriesDiff.sort_values(\"cases\")"
   ]
  },
  {
   "cell_type": "code",
   "execution_count": null,
   "metadata": {},
   "outputs": [],
   "source": []
  }
 ],
 "metadata": {
  "kernelspec": {
   "display_name": "Python 3.7.6 64-bit ('phd': conda)",
   "language": "python",
   "name": "python37664bitphdcondab24623704836426aa66db115e96068bb"
  },
  "language_info": {
   "codemirror_mode": {
    "name": "ipython",
    "version": 3
   },
   "file_extension": ".py",
   "mimetype": "text/x-python",
   "name": "python",
   "nbconvert_exporter": "python",
   "pygments_lexer": "ipython3",
   "version": "3.7.6"
  }
 },
 "nbformat": 4,
 "nbformat_minor": 4
}
