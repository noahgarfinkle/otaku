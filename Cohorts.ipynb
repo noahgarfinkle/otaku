{
 "cells": [
  {
   "cell_type": "markdown",
   "metadata": {},
   "source": [
    "# Cohort Analyses"
   ]
  },
  {
   "cell_type": "markdown",
   "metadata": {},
   "source": [
    "## References"
   ]
  },
  {
   "cell_type": "markdown",
   "metadata": {},
   "source": [
    "|Link|Notes|\n",
    "|---|---|\n",
    "|https://finance.yahoo.com/news/hell-coming-mathematical-proof-185019616.html|Basic spread models|\n",
    "|https://www.insidermonkey.com/blog/donald-trump-has-3-3-percent-chance-of-dying-from-coronavirus-817781/|Basic risk mdoel|"
   ]
  },
  {
   "cell_type": "markdown",
   "metadata": {},
   "source": [
    "## Imports and Setup"
   ]
  },
  {
   "cell_type": "code",
   "execution_count": 43,
   "metadata": {},
   "outputs": [],
   "source": [
    "import numpy as np\n",
    "import matplotlib.pyplot as plt\n",
    "import seaborn as sns\n",
    "import pandas as pd\n",
    "import geopandas as gpd\n",
    "from ipypb import track\n",
    "import datetime as dt"
   ]
  },
  {
   "cell_type": "markdown",
   "metadata": {},
   "source": [
    "## Data"
   ]
  },
  {
   "cell_type": "markdown",
   "metadata": {},
   "source": [
    "Data Sources (keep it simple and focus on building the models)\n",
    "- https://covidtracking.com/api/\n",
    "- New York Times"
   ]
  },
  {
   "cell_type": "code",
   "execution_count": 2,
   "metadata": {},
   "outputs": [],
   "source": [
    "nytCountyData = \"C:\\\\Users\\\\garfink2\\\\Documents\\\\data\\\\covid\\\\covid-19-data\\\\us-counties.csv\"\n",
    "shp_USCounties = \"C:\\\\Users\\\\garfink2\\\\Documents\\\\data\\\\basemap\\\\tl_2017_us_county\\\\tl_2017_us_county.shp\"\n",
    "shp_USStates = \"C:\\\\Users\\\\garfink2\\\\Documents\\\\data\\\\basemap\\\\tl_2017_us_state\\\\tl_2017_us_state.shp\""
   ]
  },
  {
   "cell_type": "code",
   "execution_count": 3,
   "metadata": {},
   "outputs": [],
   "source": [
    "df_nytCountyData = pd.read_csv(nytCountyData)\n",
    "gdf_USCounties = gpd.read_file(shp_USCounties)\n",
    "gdf_USStates = gpd.read_file(shp_USStates)"
   ]
  },
  {
   "cell_type": "code",
   "execution_count": 27,
   "metadata": {},
   "outputs": [],
   "source": [
    "df_nytCountyData = df_nytCountyData.dropna(subset=[\"fips\"])"
   ]
  },
  {
   "cell_type": "code",
   "execution_count": 28,
   "metadata": {},
   "outputs": [
    {
     "name": "stderr",
     "output_type": "stream",
     "text": [
      "C:\\Users\\garfink2\\AppData\\Local\\Continuum\\anaconda3\\envs\\phd\\lib\\site-packages\\ipykernel_launcher.py:1: SettingWithCopyWarning: \n",
      "A value is trying to be set on a copy of a slice from a DataFrame.\n",
      "Try using .loc[row_indexer,col_indexer] = value instead\n",
      "\n",
      "See the caveats in the documentation: https://pandas.pydata.org/pandas-docs/stable/user_guide/indexing.html#returning-a-view-versus-a-copy\n",
      "  \"\"\"Entry point for launching an IPython kernel.\n"
     ]
    }
   ],
   "source": [
    "df_nytCountyData[\"fips\"] = df_nytCountyData[\"fips\"].astype(\"int\")"
   ]
  },
  {
   "cell_type": "code",
   "execution_count": 29,
   "metadata": {},
   "outputs": [
    {
     "data": {
      "text/html": [
       "<div>\n",
       "<style scoped>\n",
       "    .dataframe tbody tr th:only-of-type {\n",
       "        vertical-align: middle;\n",
       "    }\n",
       "\n",
       "    .dataframe tbody tr th {\n",
       "        vertical-align: top;\n",
       "    }\n",
       "\n",
       "    .dataframe thead th {\n",
       "        text-align: right;\n",
       "    }\n",
       "</style>\n",
       "<table border=\"1\" class=\"dataframe\">\n",
       "  <thead>\n",
       "    <tr style=\"text-align: right;\">\n",
       "      <th></th>\n",
       "      <th>date</th>\n",
       "      <th>county</th>\n",
       "      <th>state</th>\n",
       "      <th>fips</th>\n",
       "      <th>cases</th>\n",
       "      <th>deaths</th>\n",
       "    </tr>\n",
       "  </thead>\n",
       "  <tbody>\n",
       "    <tr>\n",
       "      <th>0</th>\n",
       "      <td>2020-01-21</td>\n",
       "      <td>Snohomish</td>\n",
       "      <td>Washington</td>\n",
       "      <td>53061</td>\n",
       "      <td>1</td>\n",
       "      <td>0</td>\n",
       "    </tr>\n",
       "    <tr>\n",
       "      <th>1</th>\n",
       "      <td>2020-01-22</td>\n",
       "      <td>Snohomish</td>\n",
       "      <td>Washington</td>\n",
       "      <td>53061</td>\n",
       "      <td>1</td>\n",
       "      <td>0</td>\n",
       "    </tr>\n",
       "    <tr>\n",
       "      <th>2</th>\n",
       "      <td>2020-01-23</td>\n",
       "      <td>Snohomish</td>\n",
       "      <td>Washington</td>\n",
       "      <td>53061</td>\n",
       "      <td>1</td>\n",
       "      <td>0</td>\n",
       "    </tr>\n",
       "    <tr>\n",
       "      <th>3</th>\n",
       "      <td>2020-01-24</td>\n",
       "      <td>Cook</td>\n",
       "      <td>Illinois</td>\n",
       "      <td>17031</td>\n",
       "      <td>1</td>\n",
       "      <td>0</td>\n",
       "    </tr>\n",
       "    <tr>\n",
       "      <th>4</th>\n",
       "      <td>2020-01-24</td>\n",
       "      <td>Snohomish</td>\n",
       "      <td>Washington</td>\n",
       "      <td>53061</td>\n",
       "      <td>1</td>\n",
       "      <td>0</td>\n",
       "    </tr>\n",
       "  </tbody>\n",
       "</table>\n",
       "</div>"
      ],
      "text/plain": [
       "         date     county       state   fips  cases  deaths\n",
       "0  2020-01-21  Snohomish  Washington  53061      1       0\n",
       "1  2020-01-22  Snohomish  Washington  53061      1       0\n",
       "2  2020-01-23  Snohomish  Washington  53061      1       0\n",
       "3  2020-01-24       Cook    Illinois  17031      1       0\n",
       "4  2020-01-24  Snohomish  Washington  53061      1       0"
      ]
     },
     "execution_count": 29,
     "metadata": {},
     "output_type": "execute_result"
    }
   ],
   "source": [
    "df_nytCountyData.head()"
   ]
  },
  {
   "cell_type": "code",
   "execution_count": 30,
   "metadata": {},
   "outputs": [],
   "source": [
    "gdf_USCounties[\"GEOID\"] = gdf_USCounties[\"GEOID\"].astype(\"int\")"
   ]
  },
  {
   "cell_type": "code",
   "execution_count": 33,
   "metadata": {},
   "outputs": [],
   "source": [
    "gdf_USCounties = gdf_USCounties[[\"STATEFP\",\"COUNTYFP\",\"GEOID\",\"NAME\",\"NAMELSAD\",\"geometry\"]]"
   ]
  },
  {
   "cell_type": "code",
   "execution_count": 34,
   "metadata": {},
   "outputs": [
    {
     "data": {
      "text/html": [
       "<div>\n",
       "<style scoped>\n",
       "    .dataframe tbody tr th:only-of-type {\n",
       "        vertical-align: middle;\n",
       "    }\n",
       "\n",
       "    .dataframe tbody tr th {\n",
       "        vertical-align: top;\n",
       "    }\n",
       "\n",
       "    .dataframe thead th {\n",
       "        text-align: right;\n",
       "    }\n",
       "</style>\n",
       "<table border=\"1\" class=\"dataframe\">\n",
       "  <thead>\n",
       "    <tr style=\"text-align: right;\">\n",
       "      <th></th>\n",
       "      <th>STATEFP</th>\n",
       "      <th>COUNTYFP</th>\n",
       "      <th>GEOID</th>\n",
       "      <th>NAME</th>\n",
       "      <th>NAMELSAD</th>\n",
       "      <th>geometry</th>\n",
       "    </tr>\n",
       "  </thead>\n",
       "  <tbody>\n",
       "    <tr>\n",
       "      <th>0</th>\n",
       "      <td>31</td>\n",
       "      <td>039</td>\n",
       "      <td>31039</td>\n",
       "      <td>Cuming</td>\n",
       "      <td>Cuming County</td>\n",
       "      <td>POLYGON ((-97.01952 42.00410, -97.01952 42.004...</td>\n",
       "    </tr>\n",
       "    <tr>\n",
       "      <th>1</th>\n",
       "      <td>53</td>\n",
       "      <td>069</td>\n",
       "      <td>53069</td>\n",
       "      <td>Wahkiakum</td>\n",
       "      <td>Wahkiakum County</td>\n",
       "      <td>POLYGON ((-123.43639 46.23820, -123.44759 46.2...</td>\n",
       "    </tr>\n",
       "    <tr>\n",
       "      <th>2</th>\n",
       "      <td>35</td>\n",
       "      <td>011</td>\n",
       "      <td>35011</td>\n",
       "      <td>De Baca</td>\n",
       "      <td>De Baca County</td>\n",
       "      <td>POLYGON ((-104.56739 33.99757, -104.56772 33.9...</td>\n",
       "    </tr>\n",
       "    <tr>\n",
       "      <th>3</th>\n",
       "      <td>31</td>\n",
       "      <td>109</td>\n",
       "      <td>31109</td>\n",
       "      <td>Lancaster</td>\n",
       "      <td>Lancaster County</td>\n",
       "      <td>POLYGON ((-96.91060 40.95841, -96.91060 40.958...</td>\n",
       "    </tr>\n",
       "    <tr>\n",
       "      <th>4</th>\n",
       "      <td>31</td>\n",
       "      <td>129</td>\n",
       "      <td>31129</td>\n",
       "      <td>Nuckolls</td>\n",
       "      <td>Nuckolls County</td>\n",
       "      <td>POLYGON ((-98.27367 40.08940, -98.27367 40.089...</td>\n",
       "    </tr>\n",
       "  </tbody>\n",
       "</table>\n",
       "</div>"
      ],
      "text/plain": [
       "  STATEFP COUNTYFP  GEOID       NAME          NAMELSAD  \\\n",
       "0      31      039  31039     Cuming     Cuming County   \n",
       "1      53      069  53069  Wahkiakum  Wahkiakum County   \n",
       "2      35      011  35011    De Baca    De Baca County   \n",
       "3      31      109  31109  Lancaster  Lancaster County   \n",
       "4      31      129  31129   Nuckolls   Nuckolls County   \n",
       "\n",
       "                                            geometry  \n",
       "0  POLYGON ((-97.01952 42.00410, -97.01952 42.004...  \n",
       "1  POLYGON ((-123.43639 46.23820, -123.44759 46.2...  \n",
       "2  POLYGON ((-104.56739 33.99757, -104.56772 33.9...  \n",
       "3  POLYGON ((-96.91060 40.95841, -96.91060 40.958...  \n",
       "4  POLYGON ((-98.27367 40.08940, -98.27367 40.089...  "
      ]
     },
     "execution_count": 34,
     "metadata": {},
     "output_type": "execute_result"
    }
   ],
   "source": [
    "gdf_USCounties.head()"
   ]
  },
  {
   "cell_type": "code",
   "execution_count": 38,
   "metadata": {},
   "outputs": [],
   "source": [
    "gdf_countyTimeSeries = gpd.GeoDataFrame(pd.merge(left=df_nytCountyData,right=gdf_USCounties,left_on=\"fips\",right_on=\"GEOID\"))"
   ]
  },
  {
   "cell_type": "code",
   "execution_count": 40,
   "metadata": {},
   "outputs": [],
   "source": [
    "gdf_countyTimeSeries['date'] = pd.to_datetime(gdf_countyTimeSeries['date'], errors='coerce')"
   ]
  },
  {
   "cell_type": "code",
   "execution_count": 41,
   "metadata": {},
   "outputs": [
    {
     "data": {
      "text/html": [
       "<div>\n",
       "<style scoped>\n",
       "    .dataframe tbody tr th:only-of-type {\n",
       "        vertical-align: middle;\n",
       "    }\n",
       "\n",
       "    .dataframe tbody tr th {\n",
       "        vertical-align: top;\n",
       "    }\n",
       "\n",
       "    .dataframe thead th {\n",
       "        text-align: right;\n",
       "    }\n",
       "</style>\n",
       "<table border=\"1\" class=\"dataframe\">\n",
       "  <thead>\n",
       "    <tr style=\"text-align: right;\">\n",
       "      <th></th>\n",
       "      <th>date</th>\n",
       "      <th>county</th>\n",
       "      <th>state</th>\n",
       "      <th>fips</th>\n",
       "      <th>cases</th>\n",
       "      <th>deaths</th>\n",
       "      <th>STATEFP</th>\n",
       "      <th>COUNTYFP</th>\n",
       "      <th>GEOID</th>\n",
       "      <th>NAME</th>\n",
       "      <th>NAMELSAD</th>\n",
       "      <th>geometry</th>\n",
       "    </tr>\n",
       "  </thead>\n",
       "  <tbody>\n",
       "    <tr>\n",
       "      <th>0</th>\n",
       "      <td>2020-01-21</td>\n",
       "      <td>Snohomish</td>\n",
       "      <td>Washington</td>\n",
       "      <td>53061</td>\n",
       "      <td>1</td>\n",
       "      <td>0</td>\n",
       "      <td>53</td>\n",
       "      <td>061</td>\n",
       "      <td>53061</td>\n",
       "      <td>Snohomish</td>\n",
       "      <td>Snohomish County</td>\n",
       "      <td>POLYGON ((-122.34309 48.03653, -122.34086 48.0...</td>\n",
       "    </tr>\n",
       "    <tr>\n",
       "      <th>1</th>\n",
       "      <td>2020-01-22</td>\n",
       "      <td>Snohomish</td>\n",
       "      <td>Washington</td>\n",
       "      <td>53061</td>\n",
       "      <td>1</td>\n",
       "      <td>0</td>\n",
       "      <td>53</td>\n",
       "      <td>061</td>\n",
       "      <td>53061</td>\n",
       "      <td>Snohomish</td>\n",
       "      <td>Snohomish County</td>\n",
       "      <td>POLYGON ((-122.34309 48.03653, -122.34086 48.0...</td>\n",
       "    </tr>\n",
       "    <tr>\n",
       "      <th>2</th>\n",
       "      <td>2020-01-23</td>\n",
       "      <td>Snohomish</td>\n",
       "      <td>Washington</td>\n",
       "      <td>53061</td>\n",
       "      <td>1</td>\n",
       "      <td>0</td>\n",
       "      <td>53</td>\n",
       "      <td>061</td>\n",
       "      <td>53061</td>\n",
       "      <td>Snohomish</td>\n",
       "      <td>Snohomish County</td>\n",
       "      <td>POLYGON ((-122.34309 48.03653, -122.34086 48.0...</td>\n",
       "    </tr>\n",
       "    <tr>\n",
       "      <th>3</th>\n",
       "      <td>2020-01-24</td>\n",
       "      <td>Snohomish</td>\n",
       "      <td>Washington</td>\n",
       "      <td>53061</td>\n",
       "      <td>1</td>\n",
       "      <td>0</td>\n",
       "      <td>53</td>\n",
       "      <td>061</td>\n",
       "      <td>53061</td>\n",
       "      <td>Snohomish</td>\n",
       "      <td>Snohomish County</td>\n",
       "      <td>POLYGON ((-122.34309 48.03653, -122.34086 48.0...</td>\n",
       "    </tr>\n",
       "    <tr>\n",
       "      <th>4</th>\n",
       "      <td>2020-01-25</td>\n",
       "      <td>Snohomish</td>\n",
       "      <td>Washington</td>\n",
       "      <td>53061</td>\n",
       "      <td>1</td>\n",
       "      <td>0</td>\n",
       "      <td>53</td>\n",
       "      <td>061</td>\n",
       "      <td>53061</td>\n",
       "      <td>Snohomish</td>\n",
       "      <td>Snohomish County</td>\n",
       "      <td>POLYGON ((-122.34309 48.03653, -122.34086 48.0...</td>\n",
       "    </tr>\n",
       "  </tbody>\n",
       "</table>\n",
       "</div>"
      ],
      "text/plain": [
       "        date     county       state   fips  cases  deaths STATEFP COUNTYFP  \\\n",
       "0 2020-01-21  Snohomish  Washington  53061      1       0      53      061   \n",
       "1 2020-01-22  Snohomish  Washington  53061      1       0      53      061   \n",
       "2 2020-01-23  Snohomish  Washington  53061      1       0      53      061   \n",
       "3 2020-01-24  Snohomish  Washington  53061      1       0      53      061   \n",
       "4 2020-01-25  Snohomish  Washington  53061      1       0      53      061   \n",
       "\n",
       "   GEOID       NAME          NAMELSAD  \\\n",
       "0  53061  Snohomish  Snohomish County   \n",
       "1  53061  Snohomish  Snohomish County   \n",
       "2  53061  Snohomish  Snohomish County   \n",
       "3  53061  Snohomish  Snohomish County   \n",
       "4  53061  Snohomish  Snohomish County   \n",
       "\n",
       "                                            geometry  \n",
       "0  POLYGON ((-122.34309 48.03653, -122.34086 48.0...  \n",
       "1  POLYGON ((-122.34309 48.03653, -122.34086 48.0...  \n",
       "2  POLYGON ((-122.34309 48.03653, -122.34086 48.0...  \n",
       "3  POLYGON ((-122.34309 48.03653, -122.34086 48.0...  \n",
       "4  POLYGON ((-122.34309 48.03653, -122.34086 48.0...  "
      ]
     },
     "execution_count": 41,
     "metadata": {},
     "output_type": "execute_result"
    }
   ],
   "source": [
    "gdf_countyTimeSeries.head()"
   ]
  },
  {
   "cell_type": "code",
   "execution_count": 59,
   "metadata": {},
   "outputs": [],
   "source": [
    "def filterByDate(gdf,dateColumn=\"date\",month=3,day=27,year=2020,operator=\"=\"):\n",
    "    filterDate = dt.datetime(month=month,day=day,year=year)\n",
    "    if operator == \"=\":\n",
    "        gdf = gdf[gdf[dateColumn] == filterDate]\n",
    "    elif operator == \"<\":\n",
    "        gdf = gdf[gdf[dateColumn] < filterDate]\n",
    "    elif operator == \"<=\":\n",
    "            gdf = gdf[gdf[dateColumn] <= filterDate]\n",
    "    elif operator == \">\":\n",
    "            gdf = gdf[gdf[dateColumn] > filterDate]\n",
    "    elif operator == \">=\":\n",
    "            gdf = gdf[gdf[dateColumn] >= filterDate]\n",
    "    else:\n",
    "        raise(Exception(\"error, operator not recognized\"))\n",
    "    return gdf"
   ]
  },
  {
   "cell_type": "code",
   "execution_count": 60,
   "metadata": {},
   "outputs": [
    {
     "data": {
      "text/plain": [
       "<matplotlib.axes._subplots.AxesSubplot at 0x22561792a08>"
      ]
     },
     "execution_count": 60,
     "metadata": {},
     "output_type": "execute_result"
    },
    {
     "data": {
      "image/png": "[encoded data removed]",
      "text/plain": [
       "<Figure size 432x288 with 2 Axes>"
      ]
     },
     "metadata": {
      "needs_background": "light"
     },
     "output_type": "display_data"
    }
   ],
   "source": [
    "filterByDate(gdf_countyTimeSeries).plot(\"cases\",legend=\"True\")"
   ]
  },
  {
   "cell_type": "markdown",
   "metadata": {},
   "source": [
    "## Assumptions"
   ]
  },
  {
   "cell_type": "code",
   "execution_count": null,
   "metadata": {},
   "outputs": [],
   "source": [
    "rate_fatality = 0.8/100 # https://finance.yahoo.com/news/hell-coming-mathematical-proof-185019616.html\n",
    "days_to_onset = 5\n",
    "days_to_hospitalization = 10\n",
    "days_to_outcome = 24"
   ]
  },
  {
   "cell_type": "markdown",
   "metadata": {},
   "source": [
    "## Analyses"
   ]
  },
  {
   "cell_type": "markdown",
   "metadata": {},
   "source": [
    "Estimating cohort risk"
   ]
  },
  {
   "cell_type": "markdown",
   "metadata": {},
   "source": [
    "- Assume $P_{{infection}}$ is homogenous and homogenous both spatially and across population subsets\n",
    "- Specify assumed rates for $P_{{{{hospitalization}}_{{age}}}}$ and $P_{{{{death}}_{{age}}}}$\n",
    "- Specify assumed rates for $P_{{{{absence}}_{{non-illness}}}}$"
   ]
  },
  {
   "cell_type": "code",
   "execution_count": null,
   "metadata": {},
   "outputs": [],
   "source": []
  },
  {
   "cell_type": "code",
   "execution_count": null,
   "metadata": {},
   "outputs": [],
   "source": []
  }
 ],
 "metadata": {
  "kernelspec": {
   "display_name": "Python 3.7.6 64-bit ('phd': conda)",
   "language": "python",
   "name": "python37664bitphdcondab24623704836426aa66db115e96068bb"
  },
  "language_info": {
   "codemirror_mode": {
    "name": "ipython",
    "version": 3
   },
   "file_extension": ".py",
   "mimetype": "text/x-python",
   "name": "python",
   "nbconvert_exporter": "python",
   "pygments_lexer": "ipython3",
   "version": "3.7.6"
  }
 },
 "nbformat": 4,
 "nbformat_minor": 4
}
